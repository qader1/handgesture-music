{
 "cells": [
  {
   "cell_type": "code",
   "execution_count": 1,
   "metadata": {
    "collapsed": true
   },
   "outputs": [],
   "source": [
    "import cv2\n",
    "import torch\n",
    "import albumentations as al\n",
    "from albumentations.pytorch import ToTensorV2\n",
    "from time import time\n",
    "import numpy as np"
   ]
  },
  {
   "cell_type": "code",
   "execution_count": 7,
   "outputs": [
    {
     "data": {
      "text/plain": "Model4(\n  (layer1): Sequential(\n    (0): Conv2d(3, 16, kernel_size=(3, 3), stride=(1, 1))\n    (1): BatchNorm2d(16, eps=1e-05, momentum=0.1, affine=True, track_running_stats=True)\n    (2): ReLU()\n  )\n  (layer2): Sequential(\n    (0): Conv2d(16, 32, kernel_size=(3, 3), stride=(1, 1))\n    (1): BatchNorm2d(32, eps=1e-05, momentum=0.1, affine=True, track_running_stats=True)\n    (2): ReLU()\n    (3): MaxPool2d(kernel_size=2, stride=2, padding=0, dilation=1, ceil_mode=False)\n  )\n  (layer3): Sequential(\n    (0): Conv2d(32, 32, kernel_size=(3, 3), stride=(1, 1))\n    (1): BatchNorm2d(32, eps=1e-05, momentum=0.1, affine=True, track_running_stats=True)\n    (2): ReLU()\n    (3): Dropout(p=0.2, inplace=False)\n  )\n  (layer4): Sequential(\n    (0): Conv2d(32, 64, kernel_size=(3, 3), stride=(1, 1))\n    (1): BatchNorm2d(64, eps=1e-05, momentum=0.1, affine=True, track_running_stats=True)\n    (2): ReLU()\n    (3): MaxPool2d(kernel_size=2, stride=2, padding=0, dilation=1, ceil_mode=False)\n    (4): Dropout(p=0.2, inplace=False)\n  )\n  (layer5): Sequential(\n    (0): Conv2d(64, 96, kernel_size=(3, 3), stride=(1, 1), padding=(1, 1))\n    (1): BatchNorm2d(96, eps=1e-05, momentum=0.1, affine=True, track_running_stats=True)\n    (2): ReLU()\n    (3): Dropout(p=0.2, inplace=False)\n  )\n  (layer6): Sequential(\n    (0): Conv2d(96, 128, kernel_size=(3, 3), stride=(1, 1), padding=(1, 1))\n    (1): BatchNorm2d(128, eps=1e-05, momentum=0.1, affine=True, track_running_stats=True)\n    (2): ReLU()\n    (3): MaxPool2d(kernel_size=2, stride=2, padding=0, dilation=1, ceil_mode=False)\n    (4): Dropout(p=0.25, inplace=False)\n  )\n  (layer7): Sequential(\n    (0): Conv2d(128, 128, kernel_size=(3, 3), stride=(1, 1))\n    (1): BatchNorm2d(128, eps=1e-05, momentum=0.1, affine=True, track_running_stats=True)\n    (2): ReLU()\n    (3): MaxPool2d(kernel_size=2, stride=2, padding=0, dilation=1, ceil_mode=False)\n    (4): Dropout(p=0.2, inplace=False)\n  )\n  (fc): Sequential(\n    (0): Linear(in_features=5120, out_features=128, bias=True)\n    (1): ReLU()\n    (2): Linear(in_features=128, out_features=32, bias=True)\n    (3): ReLU()\n    (4): Linear(in_features=32, out_features=8, bias=True)\n  )\n)"
     },
     "execution_count": 7,
     "metadata": {},
     "output_type": "execute_result"
    }
   ],
   "source": [
    "model = m.Model4(8, 3)\n",
    "model.load_state_dict(torch.load(r'logging/XP20_model'))\n",
    "model.eval()"
   ],
   "metadata": {
    "collapsed": false,
    "pycharm": {
     "name": "#%%\n"
    }
   }
  },
  {
   "cell_type": "code",
   "execution_count": 8,
   "outputs": [],
   "source": [
    "data_transform_t = al.Compose([\n",
    "    al.Resize(120, 160, always_apply=True),\n",
    "    al.Normalize(mean=[0.485, 0.456, 0.406], std=[0.229, 0.224, 0.225]),\n",
    "    ToTensorV2(transpose_mask=True)\n",
    "])\n",
    "\n",
    "lst = ['right FIST',\n",
    "       'left FIST',\n",
    "       'right PALM',\n",
    "       'left PALM',\n",
    "       'right 2FINGER',\n",
    "       'left 2FINGER',\n",
    "       'right L',\n",
    "       'left L']"
   ],
   "metadata": {
    "collapsed": false,
    "pycharm": {
     "name": "#%%\n"
    }
   }
  },
  {
   "cell_type": "code",
   "execution_count": 9,
   "outputs": [
    {
     "ename": "error",
     "evalue": "OpenCV(4.5.5) D:\\bld\\libopencv_1646358785966\\work\\modules\\highgui\\src\\window.cpp:1000: error: (-215:Assertion failed) size.width>0 && size.height>0 in function 'cv::imshow'\n",
     "output_type": "error",
     "traceback": [
      "\u001B[1;31m---------------------------------------------------------------------------\u001B[0m",
      "\u001B[1;31merror\u001B[0m                                     Traceback (most recent call last)",
      "\u001B[1;32m~\\AppData\\Local\\Temp/ipykernel_2744/3664956390.py\u001B[0m in \u001B[0;36m<module>\u001B[1;34m\u001B[0m\n\u001B[0;32m     26\u001B[0m                 \u001B[1;36m2\u001B[0m\u001B[1;33m,\u001B[0m\u001B[1;33m\u001B[0m\u001B[1;33m\u001B[0m\u001B[0m\n\u001B[0;32m     27\u001B[0m                 cv2.LINE_4)\n\u001B[1;32m---> 28\u001B[1;33m     \u001B[0mcv2\u001B[0m\u001B[1;33m.\u001B[0m\u001B[0mimshow\u001B[0m\u001B[1;33m(\u001B[0m\u001B[1;34m'frame'\u001B[0m\u001B[1;33m,\u001B[0m \u001B[0mframe\u001B[0m\u001B[1;33m)\u001B[0m\u001B[1;33m\u001B[0m\u001B[1;33m\u001B[0m\u001B[0m\n\u001B[0m\u001B[0;32m     29\u001B[0m     \u001B[1;32mif\u001B[0m \u001B[0mcv2\u001B[0m\u001B[1;33m.\u001B[0m\u001B[0mwaitKey\u001B[0m\u001B[1;33m(\u001B[0m\u001B[1;36m1\u001B[0m\u001B[1;33m)\u001B[0m \u001B[1;33m&\u001B[0m \u001B[1;36m0xFF\u001B[0m \u001B[1;33m==\u001B[0m \u001B[0mord\u001B[0m\u001B[1;33m(\u001B[0m\u001B[1;34m'q'\u001B[0m\u001B[1;33m)\u001B[0m\u001B[1;33m:\u001B[0m\u001B[1;33m\u001B[0m\u001B[1;33m\u001B[0m\u001B[0m\n\u001B[0;32m     30\u001B[0m         \u001B[1;32mbreak\u001B[0m\u001B[1;33m\u001B[0m\u001B[1;33m\u001B[0m\u001B[0m\n",
      "\u001B[1;31merror\u001B[0m: OpenCV(4.5.5) D:\\bld\\libopencv_1646358785966\\work\\modules\\highgui\\src\\window.cpp:1000: error: (-215:Assertion failed) size.width>0 && size.height>0 in function 'cv::imshow'\n"
     ]
    }
   ],
   "source": [
    "sensitivity = 5\n",
    "confidence = .80\n",
    "vid = cv2.VideoCapture(0)\n",
    "font = cv2.FONT_HERSHEY_PLAIN\n",
    "prev = 0\n",
    "frames = np.empty((sensitivity, 1))\n",
    "frames.fill(np.nan)\n",
    "fbs = 12\n",
    "while True:\n",
    "    ret, frame = vid.read()\n",
    "    prev = time() - prev\n",
    "    if time() - prev > 1/fbs:\n",
    "        frame_t = cv2.cvtColor(frame, cv2.COLOR_BGR2RGB)\n",
    "        frame_t = data_transform_t(image=frame_t)['image']\n",
    "        with torch.no_grad():\n",
    "            out = model(frame_t.unsqueeze(0)).softmax(-1)\n",
    "            predict = out.argmax(axis=-1).item() if out.max().item() > confidence else np.nan\n",
    "            frames = np.append(frames[1:], predict)\n",
    "            print(frames)\n",
    "    text = f'{lst[int(frames[-1])]}, confidence: {out.max().item():4f}'  if np.all(frames[-1] == frames) else 'undetected'\n",
    "    cv2.putText(frame,\n",
    "                text,\n",
    "                (50, 50),\n",
    "                font, 1,\n",
    "                (0, 0, 255),\n",
    "                2,\n",
    "                cv2.LINE_4)\n",
    "    cv2.imshow('frame', frame)\n",
    "    if cv2.waitKey(1) & 0xFF == ord('q'):\n",
    "        break\n",
    "\n",
    "vid.release()\n",
    "cv2.destroyAllWindows()"
   ],
   "metadata": {
    "collapsed": false,
    "pycharm": {
     "name": "#%%\n"
    }
   }
  },
  {
   "cell_type": "code",
   "execution_count": null,
   "outputs": [],
   "source": [
    "vid.release()\n",
    "cv2.destroyAllWindows()"
   ],
   "metadata": {
    "collapsed": false,
    "pycharm": {
     "name": "#%%\n"
    }
   }
  },
  {
   "cell_type": "code",
   "execution_count": 15,
   "outputs": [],
   "source": [
    "from dataset import HandGestures\n",
    "from torch.utils.data import DataLoader"
   ],
   "metadata": {
    "collapsed": false,
    "pycharm": {
     "name": "#%%\n"
    }
   }
  },
  {
   "cell_type": "code",
   "execution_count": 17,
   "outputs": [],
   "source": [
    "data = HandGestures(r'C:\\Users\\Aboud\\Datasets\\NUS_hand_posture_data_2\\Data')\n",
    "dl = DataLoader(data, batch_size=256)"
   ],
   "metadata": {
    "collapsed": false,
    "pycharm": {
     "name": "#%%\n"
    }
   }
  },
  {
   "cell_type": "code",
   "execution_count": 3,
   "outputs": [
    {
     "ename": "NameError",
     "evalue": "name 'model' is not defined",
     "output_type": "error",
     "traceback": [
      "\u001B[1;31m---------------------------------------------------------------------------\u001B[0m",
      "\u001B[1;31mNameError\u001B[0m                                 Traceback (most recent call last)",
      "\u001B[1;32m~\\AppData\\Local\\Temp/ipykernel_55760/2498630877.py\u001B[0m in \u001B[0;36m<module>\u001B[1;34m\u001B[0m\n\u001B[0;32m      3\u001B[0m \u001B[1;33m\u001B[0m\u001B[0m\n\u001B[0;32m      4\u001B[0m \u001B[1;32mfor\u001B[0m \u001B[0mi\u001B[0m\u001B[1;33m,\u001B[0m \u001B[0ml\u001B[0m \u001B[1;32min\u001B[0m \u001B[0mdl\u001B[0m\u001B[1;33m:\u001B[0m\u001B[1;33m\u001B[0m\u001B[1;33m\u001B[0m\u001B[0m\n\u001B[1;32m----> 5\u001B[1;33m     \u001B[0moutputs\u001B[0m \u001B[1;33m=\u001B[0m \u001B[0mmodel\u001B[0m\u001B[1;33m(\u001B[0m\u001B[0mi\u001B[0m\u001B[1;33m)\u001B[0m\u001B[1;33m\u001B[0m\u001B[1;33m\u001B[0m\u001B[0m\n\u001B[0m\u001B[0;32m      6\u001B[0m     \u001B[0moutputs\u001B[0m \u001B[1;33m=\u001B[0m \u001B[0moutputs\u001B[0m\u001B[1;33m.\u001B[0m\u001B[0msoftmax\u001B[0m\u001B[1;33m(\u001B[0m\u001B[1;33m-\u001B[0m\u001B[1;36m1\u001B[0m\u001B[1;33m)\u001B[0m\u001B[1;33m.\u001B[0m\u001B[0margmax\u001B[0m\u001B[1;33m(\u001B[0m\u001B[1;33m-\u001B[0m\u001B[1;36m1\u001B[0m\u001B[1;33m)\u001B[0m\u001B[1;33m\u001B[0m\u001B[1;33m\u001B[0m\u001B[0m\n\u001B[0;32m      7\u001B[0m     \u001B[0mpredicated\u001B[0m \u001B[1;33m+=\u001B[0m \u001B[0moutputs\u001B[0m\u001B[1;33m.\u001B[0m\u001B[0mflatten\u001B[0m\u001B[1;33m(\u001B[0m\u001B[1;33m)\u001B[0m\u001B[1;33m.\u001B[0m\u001B[0mtolist\u001B[0m\u001B[1;33m(\u001B[0m\u001B[1;33m)\u001B[0m\u001B[1;33m\u001B[0m\u001B[1;33m\u001B[0m\u001B[0m\n",
      "\u001B[1;31mNameError\u001B[0m: name 'model' is not defined"
     ]
    }
   ],
   "source": [
    "predicated = []\n",
    "target = []\n",
    "\n",
    "for i, l in dl:\n",
    "    outputs = model(i)\n",
    "    outputs = outputs.softmax(-1).argmax(-1)\n",
    "    predicated += outputs.flatten().tolist()\n",
    "    target += l.flatten().tolist()\n",
    "\n",
    "correct = 0\n",
    "length = len(target)\n",
    "for i, j in zip(target, predicated):\n",
    "    if i == j:\n",
    "        correct += 1\n",
    "print(correct/length)"
   ],
   "metadata": {
    "collapsed": false,
    "pycharm": {
     "name": "#%%\n"
    }
   }
  },
  {
   "cell_type": "code",
   "execution_count": 60,
   "outputs": [
    {
     "data": {
      "text/plain": "tensor([[206., 207., 209.],\n        [255., 255., 255.],\n        [255., 255., 249.],\n        [201., 195., 198.]])"
     },
     "execution_count": 60,
     "metadata": {},
     "output_type": "execute_result"
    }
   ],
   "source": [
    "from PIL import Image\n",
    "\"\"\"trans_r = al.Compose([\n",
    "\n",
    "    ,\n",
    "              al.FancyPCA(),\n",
    "              ,\n",
    "    al.OneOf([,\n",
    "              ,\n",
    "              al.ISONoise(color_shift=(.01, .10), intensity=(.1, .6), p=.25)], p=.5),\n",
    "    al.GridDistortion(num_steps=15, distort_limit=.5,\n",
    "                      interpolation=cv2.INTER_LINEAR, border_mode=cv2.BORDER_REPLICATE),\n",
    "    )\n",
    "])\"\"\"\n",
    "d = [x[0] for x in data[140:144]]\n",
    "d = np.array(d)\n",
    "t = torch.from_numpy(d)\n",
    "t: torch.Tensor = t.permute(0 ,3, 1, 2).to(torch.float32)\n",
    "torch.max(t, 2)[0].max(2)[0]\n"
   ],
   "metadata": {
    "collapsed": false,
    "pycharm": {
     "name": "#%%\n"
    }
   }
  },
  {
   "cell_type": "code",
   "execution_count": 64,
   "outputs": [
    {
     "data": {
      "text/plain": "3544"
     },
     "execution_count": 64,
     "metadata": {},
     "output_type": "execute_result"
    }
   ],
   "source": [
    "len(dl.dataset)"
   ],
   "metadata": {
    "collapsed": false,
    "pycharm": {
     "name": "#%%\n"
    }
   }
  },
  {
   "cell_type": "code",
   "execution_count": 3,
   "outputs": [],
   "source": [
    "ml = vlc.MediaListPlayer()"
   ],
   "metadata": {
    "collapsed": false,
    "pycharm": {
     "name": "#%%\n"
    }
   }
  },
  {
   "cell_type": "code",
   "source": [
    "d"
   ],
   "metadata": {
    "collapsed": false,
    "pycharm": {
     "name": "#%%\n"
    }
   },
   "execution_count": 14,
   "outputs": [
    {
     "ename": "NameError",
     "evalue": "name 'd' is not defined",
     "output_type": "error",
     "traceback": [
      "\u001B[1;31m---------------------------------------------------------------------------\u001B[0m",
      "\u001B[1;31mNameError\u001B[0m                                 Traceback (most recent call last)",
      "\u001B[1;32m~\\AppData\\Local\\Temp/ipykernel_8848/107708859.py\u001B[0m in \u001B[0;36m<module>\u001B[1;34m\u001B[0m\n\u001B[1;32m----> 1\u001B[1;33m \u001B[0md\u001B[0m\u001B[1;33m\u001B[0m\u001B[1;33m\u001B[0m\u001B[0m\n\u001B[0m",
      "\u001B[1;31mNameError\u001B[0m: name 'd' is not defined"
     ]
    }
   ]
  },
  {
   "cell_type": "code",
   "execution_count": null,
   "outputs": [],
   "source": [
    "ml.play()"
   ],
   "metadata": {
    "collapsed": false,
    "pycharm": {
     "name": "#%%\n"
    }
   }
  },
  {
   "cell_type": "code",
   "source": [
    "ml.pause()"
   ],
   "metadata": {
    "collapsed": false,
    "pycharm": {
     "name": "#%%\n"
    }
   },
   "execution_count": null,
   "outputs": []
  },
  {
   "cell_type": "code",
   "execution_count": null,
   "outputs": [],
   "source": [
    "ml.is_playing()"
   ],
   "metadata": {
    "collapsed": false,
    "pycharm": {
     "name": "#%%\n"
    }
   }
  },
  {
   "cell_type": "code",
   "execution_count": 2,
   "outputs": [
    {
     "data": {
      "text/plain": "1007400"
     },
     "execution_count": 2,
     "metadata": {},
     "output_type": "execute_result"
    }
   ],
   "source": [
    "from models import *\n",
    "v4 = Var4(8)\n",
    "sum(p.numel() for p in v4.parameters() if p.requires_grad)"
   ],
   "metadata": {
    "collapsed": false,
    "pycharm": {
     "name": "#%%\n"
    }
   }
  },
  {
   "cell_type": "code",
   "execution_count": 19,
   "outputs": [
    {
     "data": {
      "text/plain": "1731816"
     },
     "execution_count": 19,
     "metadata": {},
     "output_type": "execute_result"
    }
   ],
   "source": [
    "v4 = Var7(8)\n",
    "v4.eval()\n",
    "sum(p.numel() for p in v4.parameters() if p.requires_grad)"
   ],
   "metadata": {
    "collapsed": false,
    "pycharm": {
     "name": "#%%\n"
    }
   }
  },
  {
   "cell_type": "code",
   "execution_count": 36,
   "outputs": [
    {
     "name": "stdout",
     "output_type": "stream",
     "text": [
      "graph(%actual_input : Float(1, 3, 120, 160, strides=[57600, 19200, 160, 1], requires_grad=0, device=cpu),\n",
      "      %fc.0.weight : Float(8, 512, strides=[512, 1], requires_grad=1, device=cpu),\n",
      "      %fc.0.bias : Float(8, strides=[1], requires_grad=1, device=cpu),\n",
      "      %525 : Float(32, 3, 3, 3, strides=[27, 9, 3, 1], requires_grad=0, device=cpu),\n",
      "      %526 : Float(32, strides=[1], requires_grad=0, device=cpu),\n",
      "      %528 : Float(32, 32, 3, 3, strides=[288, 9, 3, 1], requires_grad=0, device=cpu),\n",
      "      %529 : Float(32, strides=[1], requires_grad=0, device=cpu),\n",
      "      %531 : Float(64, 32, 3, 3, strides=[288, 9, 3, 1], requires_grad=0, device=cpu),\n",
      "      %532 : Float(64, strides=[1], requires_grad=0, device=cpu),\n",
      "      %534 : Float(128, 64, 3, 3, strides=[576, 9, 3, 1], requires_grad=0, device=cpu),\n",
      "      %535 : Float(128, strides=[1], requires_grad=0, device=cpu),\n",
      "      %537 : Float(128, 128, 3, 3, strides=[1152, 9, 3, 1], requires_grad=0, device=cpu),\n",
      "      %538 : Float(128, strides=[1], requires_grad=0, device=cpu),\n",
      "      %540 : Float(256, 128, 3, 3, strides=[1152, 9, 3, 1], requires_grad=0, device=cpu),\n",
      "      %541 : Float(256, strides=[1], requires_grad=0, device=cpu),\n",
      "      %543 : Float(512, 256, 3, 3, strides=[2304, 9, 3, 1], requires_grad=0, device=cpu),\n",
      "      %544 : Float(512, strides=[1], requires_grad=0, device=cpu),\n",
      "      %545 : Long(4, strides=[1], requires_grad=0, device=cpu),\n",
      "      %549 : Long(4, strides=[1], requires_grad=0, device=cpu),\n",
      "      %550 : Long(1, strides=[1], requires_grad=0, device=cpu),\n",
      "      %551 : Long(1, strides=[1], requires_grad=0, device=cpu),\n",
      "      %552 : Long(1, strides=[1], requires_grad=0, device=cpu),\n",
      "      %553 : Long(1, strides=[1], requires_grad=0, device=cpu),\n",
      "      %556 : Long(4, strides=[1], requires_grad=0, device=cpu),\n",
      "      %559 : Long(3, strides=[1], requires_grad=0, device=cpu),\n",
      "      %560 : Long(1, strides=[1], requires_grad=0, device=cpu),\n",
      "      %561 : Long(1, strides=[1], requires_grad=0, device=cpu),\n",
      "      %562 : Long(1, strides=[1], requires_grad=0, device=cpu),\n",
      "      %565 : Long(3, strides=[1], requires_grad=0, device=cpu),\n",
      "      %566 : Long(1, strides=[1], requires_grad=0, device=cpu),\n",
      "      %567 : Long(1, strides=[1], requires_grad=0, device=cpu),\n",
      "      %568 : Long(1, strides=[1], requires_grad=0, device=cpu),\n",
      "      %572 : Long(4, strides=[1], requires_grad=0, device=cpu),\n",
      "      %573 : Long(1, strides=[1], requires_grad=0, device=cpu),\n",
      "      %574 : Long(1, strides=[1], requires_grad=0, device=cpu),\n",
      "      %575 : Long(1, strides=[1], requires_grad=0, device=cpu),\n",
      "      %576 : Long(1, strides=[1], requires_grad=0, device=cpu),\n",
      "      %580 : Long(4, strides=[1], requires_grad=0, device=cpu),\n",
      "      %581 : Long(1, strides=[1], requires_grad=0, device=cpu),\n",
      "      %582 : Long(1, strides=[1], requires_grad=0, device=cpu),\n",
      "      %583 : Long(1, strides=[1], requires_grad=0, device=cpu),\n",
      "      %584 : Long(1, strides=[1], requires_grad=0, device=cpu),\n",
      "      %588 : Long(1, strides=[1], requires_grad=0, device=cpu),\n",
      "      %589 : Long(4, strides=[1], requires_grad=0, device=cpu),\n",
      "      %593 : Long(1, strides=[1], requires_grad=0, device=cpu),\n",
      "      %594 : Long(4, strides=[1], requires_grad=0, device=cpu),\n",
      "      %598 : Long(1, strides=[1], requires_grad=0, device=cpu),\n",
      "      %599 : Long(4, strides=[1], requires_grad=0, device=cpu),\n",
      "      %603 : Long(1, strides=[1], requires_grad=0, device=cpu),\n",
      "      %604 : Long(4, strides=[1], requires_grad=0, device=cpu),\n",
      "      %608 : Long(1, strides=[1], requires_grad=0, device=cpu),\n",
      "      %609 : Long(4, strides=[1], requires_grad=0, device=cpu),\n",
      "      %613 : Long(1, strides=[1], requires_grad=0, device=cpu),\n",
      "      %614 : Long(4, strides=[1], requires_grad=0, device=cpu)):\n",
      "  %52 : Float(1, 3, 122, 162, strides=[59292, 19764, 162, 1], requires_grad=0, device=cpu) = onnx::Constant[value=<Tensor>]() # C:\\Users\\Aboud\\anaconda3\\envs\\hand_gesture_based_control\\lib\\site-packages\\torch\\nn\\functional.py:4787:0\n",
      "  %53 : Long(1, strides=[1], device=cpu) = onnx::Constant[value={2}]() # C:\\Users\\Aboud\\anaconda3\\envs\\hand_gesture_based_control\\lib\\site-packages\\torch\\nn\\functional.py:4811:0\n",
      "  %54 : Long(1, strides=[1], device=cpu) = onnx::Constant[value={0}]() # C:\\Users\\Aboud\\anaconda3\\envs\\hand_gesture_based_control\\lib\\site-packages\\torch\\nn\\functional.py:4811:0\n",
      "  %55 : Long(1, strides=[1], device=cpu) = onnx::Constant[value={120}]() # C:\\Users\\Aboud\\anaconda3\\envs\\hand_gesture_based_control\\lib\\site-packages\\torch\\nn\\functional.py:4811:0\n",
      "  %56 : Long(1, strides=[1], device=cpu) = onnx::Constant[value={1}]() # C:\\Users\\Aboud\\anaconda3\\envs\\hand_gesture_based_control\\lib\\site-packages\\torch\\nn\\functional.py:4811:0\n",
      "  %57 : Float(1, 3, 120, 160, strides=[57600, 19200, 160, 1], requires_grad=0, device=cpu) = onnx::Slice(%actual_input, %54, %55, %53, %56) # C:\\Users\\Aboud\\anaconda3\\envs\\hand_gesture_based_control\\lib\\site-packages\\torch\\nn\\functional.py:4811:0\n",
      "  %58 : Long(1, strides=[1], device=cpu) = onnx::Constant[value={3}]() # C:\\Users\\Aboud\\anaconda3\\envs\\hand_gesture_based_control\\lib\\site-packages\\torch\\nn\\functional.py:4811:0\n",
      "  %59 : Long(1, strides=[1], device=cpu) = onnx::Constant[value={0}]() # C:\\Users\\Aboud\\anaconda3\\envs\\hand_gesture_based_control\\lib\\site-packages\\torch\\nn\\functional.py:4811:0\n",
      "  %60 : Long(1, strides=[1], device=cpu) = onnx::Constant[value={160}]() # C:\\Users\\Aboud\\anaconda3\\envs\\hand_gesture_based_control\\lib\\site-packages\\torch\\nn\\functional.py:4811:0\n",
      "  %61 : Long(1, strides=[1], device=cpu) = onnx::Constant[value={1}]() # C:\\Users\\Aboud\\anaconda3\\envs\\hand_gesture_based_control\\lib\\site-packages\\torch\\nn\\functional.py:4811:0\n",
      "  %62 : Float(1, 3, 120, 160, strides=[57600, 19200, 160, 1], requires_grad=0, device=cpu) = onnx::Slice(%57, %59, %60, %58, %61) # C:\\Users\\Aboud\\anaconda3\\envs\\hand_gesture_based_control\\lib\\site-packages\\torch\\nn\\functional.py:4811:0\n",
      "  %65 : Float(1, 3, 120, 160, strides=[57600, 19200, 160, 1], requires_grad=0, device=cpu) = onnx::Expand(%62, %545) # C:\\Users\\Aboud\\anaconda3\\envs\\hand_gesture_based_control\\lib\\site-packages\\torch\\nn\\functional.py:4811:0\n",
      "  %66 : Long(160, strides=[1], requires_grad=0, device=cpu) = onnx::Constant[value=<Tensor>]() # C:\\Users\\Aboud\\anaconda3\\envs\\hand_gesture_based_control\\lib\\site-packages\\torch\\nn\\functional.py:4811:0\n",
      "  %67 : Long(1, 1, 1, 1, strides=[1, 1, 1, 1], requires_grad=0, device=cpu) = onnx::Constant[value={0}]() # C:\\Users\\Aboud\\anaconda3\\envs\\hand_gesture_based_control\\lib\\site-packages\\torch\\nn\\functional.py:4811:0\n",
      "  %68 : Long(3, 1, 1, strides=[1, 1, 1], requires_grad=0, device=cpu) = onnx::Constant[value=(1,.,.) =    0  (2,.,.) =    1  (3,.,.) =    2 [ CPULongType{3,1,1} ]]() # C:\\Users\\Aboud\\anaconda3\\envs\\hand_gesture_based_control\\lib\\site-packages\\torch\\nn\\functional.py:4811:0\n",
      "  %69 : Long(120, 1, strides=[1, 1], requires_grad=0, device=cpu) = onnx::Constant[value=<Tensor>]() # C:\\Users\\Aboud\\anaconda3\\envs\\hand_gesture_based_control\\lib\\site-packages\\torch\\nn\\functional.py:4811:0\n",
      "  %79 : Long(4, device=cpu) = onnx::ConstantOfShape[value={1}](%550) # C:\\Users\\Aboud\\anaconda3\\envs\\hand_gesture_based_control\\lib\\site-packages\\torch\\nn\\functional.py:4811:0\n",
      "  %80 : Long(requires_grad=0, device=cpu) = onnx::Constant[value={-1}]() # C:\\Users\\Aboud\\anaconda3\\envs\\hand_gesture_based_control\\lib\\site-packages\\torch\\nn\\functional.py:4811:0\n",
      "  %81 : Long(4, strides=[1], device=cpu) = onnx::Mul(%79, %80) # C:\\Users\\Aboud\\anaconda3\\envs\\hand_gesture_based_control\\lib\\site-packages\\torch\\nn\\functional.py:4811:0\n",
      "  %82 : Bool(4, strides=[1], device=cpu) = onnx::Equal(%549, %81) # C:\\Users\\Aboud\\anaconda3\\envs\\hand_gesture_based_control\\lib\\site-packages\\torch\\nn\\functional.py:4811:0\n",
      "  %83 : Long(4, strides=[1], device=cpu) = onnx::Where(%82, %79, %549) # C:\\Users\\Aboud\\anaconda3\\envs\\hand_gesture_based_control\\lib\\site-packages\\torch\\nn\\functional.py:4811:0\n",
      "  %84 : Long(1, 3, 120, 160, device=cpu) = onnx::Expand(%67, %83) # C:\\Users\\Aboud\\anaconda3\\envs\\hand_gesture_based_control\\lib\\site-packages\\torch\\nn\\functional.py:4811:0\n",
      "  %85 : Long(1, 3, 120, 160, 1, strides=[57600, 19200, 160, 1, 1], device=cpu) = onnx::Unsqueeze[axes=[-1]](%84) # C:\\Users\\Aboud\\anaconda3\\envs\\hand_gesture_based_control\\lib\\site-packages\\torch\\nn\\functional.py:4811:0\n",
      "  %87 : Long(4, device=cpu) = onnx::ConstantOfShape[value={1}](%551) # C:\\Users\\Aboud\\anaconda3\\envs\\hand_gesture_based_control\\lib\\site-packages\\torch\\nn\\functional.py:4811:0\n",
      "  %88 : Long(requires_grad=0, device=cpu) = onnx::Constant[value={-1}]() # C:\\Users\\Aboud\\anaconda3\\envs\\hand_gesture_based_control\\lib\\site-packages\\torch\\nn\\functional.py:4811:0\n",
      "  %89 : Long(4, strides=[1], device=cpu) = onnx::Mul(%87, %88) # C:\\Users\\Aboud\\anaconda3\\envs\\hand_gesture_based_control\\lib\\site-packages\\torch\\nn\\functional.py:4811:0\n",
      "  %90 : Bool(4, strides=[1], device=cpu) = onnx::Equal(%549, %89) # C:\\Users\\Aboud\\anaconda3\\envs\\hand_gesture_based_control\\lib\\site-packages\\torch\\nn\\functional.py:4811:0\n",
      "  %91 : Long(4, strides=[1], device=cpu) = onnx::Where(%90, %87, %549) # C:\\Users\\Aboud\\anaconda3\\envs\\hand_gesture_based_control\\lib\\site-packages\\torch\\nn\\functional.py:4811:0\n",
      "  %92 : Long(1, 3, 120, 160, device=cpu) = onnx::Expand(%68, %91) # C:\\Users\\Aboud\\anaconda3\\envs\\hand_gesture_based_control\\lib\\site-packages\\torch\\nn\\functional.py:4811:0\n",
      "  %93 : Long(1, 3, 120, 160, 1, strides=[57600, 19200, 160, 1, 1], device=cpu) = onnx::Unsqueeze[axes=[-1]](%92) # C:\\Users\\Aboud\\anaconda3\\envs\\hand_gesture_based_control\\lib\\site-packages\\torch\\nn\\functional.py:4811:0\n",
      "  %95 : Long(4, device=cpu) = onnx::ConstantOfShape[value={1}](%552) # C:\\Users\\Aboud\\anaconda3\\envs\\hand_gesture_based_control\\lib\\site-packages\\torch\\nn\\functional.py:4811:0\n",
      "  %96 : Long(requires_grad=0, device=cpu) = onnx::Constant[value={-1}]() # C:\\Users\\Aboud\\anaconda3\\envs\\hand_gesture_based_control\\lib\\site-packages\\torch\\nn\\functional.py:4811:0\n",
      "  %97 : Long(4, strides=[1], device=cpu) = onnx::Mul(%95, %96) # C:\\Users\\Aboud\\anaconda3\\envs\\hand_gesture_based_control\\lib\\site-packages\\torch\\nn\\functional.py:4811:0\n",
      "  %98 : Bool(4, strides=[1], device=cpu) = onnx::Equal(%549, %97) # C:\\Users\\Aboud\\anaconda3\\envs\\hand_gesture_based_control\\lib\\site-packages\\torch\\nn\\functional.py:4811:0\n",
      "  %99 : Long(4, strides=[1], device=cpu) = onnx::Where(%98, %95, %549) # C:\\Users\\Aboud\\anaconda3\\envs\\hand_gesture_based_control\\lib\\site-packages\\torch\\nn\\functional.py:4811:0\n",
      "  %100 : Long(1, 3, 120, 160, device=cpu) = onnx::Expand(%69, %99) # C:\\Users\\Aboud\\anaconda3\\envs\\hand_gesture_based_control\\lib\\site-packages\\torch\\nn\\functional.py:4811:0\n",
      "  %101 : Long(1, 3, 120, 160, 1, strides=[57600, 19200, 160, 1, 1], device=cpu) = onnx::Unsqueeze[axes=[-1]](%100) # C:\\Users\\Aboud\\anaconda3\\envs\\hand_gesture_based_control\\lib\\site-packages\\torch\\nn\\functional.py:4811:0\n",
      "  %103 : Long(4, device=cpu) = onnx::ConstantOfShape[value={1}](%553) # C:\\Users\\Aboud\\anaconda3\\envs\\hand_gesture_based_control\\lib\\site-packages\\torch\\nn\\functional.py:4811:0\n",
      "  %104 : Long(requires_grad=0, device=cpu) = onnx::Constant[value={-1}]() # C:\\Users\\Aboud\\anaconda3\\envs\\hand_gesture_based_control\\lib\\site-packages\\torch\\nn\\functional.py:4811:0\n",
      "  %105 : Long(4, strides=[1], device=cpu) = onnx::Mul(%103, %104) # C:\\Users\\Aboud\\anaconda3\\envs\\hand_gesture_based_control\\lib\\site-packages\\torch\\nn\\functional.py:4811:0\n",
      "  %106 : Bool(4, strides=[1], device=cpu) = onnx::Equal(%549, %105) # C:\\Users\\Aboud\\anaconda3\\envs\\hand_gesture_based_control\\lib\\site-packages\\torch\\nn\\functional.py:4811:0\n",
      "  %107 : Long(4, strides=[1], device=cpu) = onnx::Where(%106, %103, %549) # C:\\Users\\Aboud\\anaconda3\\envs\\hand_gesture_based_control\\lib\\site-packages\\torch\\nn\\functional.py:4811:0\n",
      "  %108 : Long(1, 3, 120, 160, device=cpu) = onnx::Expand(%66, %107) # C:\\Users\\Aboud\\anaconda3\\envs\\hand_gesture_based_control\\lib\\site-packages\\torch\\nn\\functional.py:4811:0\n",
      "  %109 : Long(1, 3, 120, 160, 1, strides=[57600, 19200, 160, 1, 1], device=cpu) = onnx::Unsqueeze[axes=[-1]](%108) # C:\\Users\\Aboud\\anaconda3\\envs\\hand_gesture_based_control\\lib\\site-packages\\torch\\nn\\functional.py:4811:0\n",
      "  %110 : Long(1, 3, 120, 160, 4, strides=[230400, 76800, 640, 4, 1], device=cpu) = onnx::Concat[axis=-1](%85, %93, %101, %109) # C:\\Users\\Aboud\\anaconda3\\envs\\hand_gesture_based_control\\lib\\site-packages\\torch\\nn\\functional.py:4811:0\n",
      "  %117 : Float(1, 3, 120, 160, device=cpu) = onnx::Reshape(%65, %556) # C:\\Users\\Aboud\\anaconda3\\envs\\hand_gesture_based_control\\lib\\site-packages\\torch\\nn\\functional.py:4811:0\n",
      "  %118 : Float(1, 3, 122, 162, strides=[59292, 19764, 162, 1], requires_grad=0, device=cpu) = onnx::ScatterND(%52, %110, %117) # C:\\Users\\Aboud\\anaconda3\\envs\\hand_gesture_based_control\\lib\\site-packages\\torch\\nn\\functional.py:4811:0\n",
      "  %119 : Long(1, strides=[1], device=cpu) = onnx::Constant[value={2}]() # C:\\Users\\Aboud\\anaconda3\\envs\\hand_gesture_based_control\\lib\\site-packages\\torch\\nn\\functional.py:4846:0\n",
      "  %120 : Long(1, strides=[1], device=cpu) = onnx::Constant[value={120}]() # C:\\Users\\Aboud\\anaconda3\\envs\\hand_gesture_based_control\\lib\\site-packages\\torch\\nn\\functional.py:4846:0\n",
      "  %121 : Long(1, strides=[1], device=cpu) = onnx::Constant[value={121}]() # C:\\Users\\Aboud\\anaconda3\\envs\\hand_gesture_based_control\\lib\\site-packages\\torch\\nn\\functional.py:4846:0\n",
      "  %122 : Long(1, strides=[1], device=cpu) = onnx::Constant[value={1}]() # C:\\Users\\Aboud\\anaconda3\\envs\\hand_gesture_based_control\\lib\\site-packages\\torch\\nn\\functional.py:4846:0\n",
      "  %123 : Float(1, 3, 1, 162, strides=[59292, 19764, 162, 1], requires_grad=0, device=cpu) = onnx::Slice(%118, %120, %121, %119, %122) # C:\\Users\\Aboud\\anaconda3\\envs\\hand_gesture_based_control\\lib\\site-packages\\torch\\nn\\functional.py:4846:0\n",
      "  %124 : Long(1, strides=[1], device=cpu) = onnx::Constant[value={2}]() # C:\\Users\\Aboud\\anaconda3\\envs\\hand_gesture_based_control\\lib\\site-packages\\torch\\nn\\functional.py:4846:0\n",
      "  %125 : Long(1, strides=[1], device=cpu) = onnx::Constant[value={0}]() # C:\\Users\\Aboud\\anaconda3\\envs\\hand_gesture_based_control\\lib\\site-packages\\torch\\nn\\functional.py:4846:0\n",
      "  %126 : Long(1, strides=[1], device=cpu) = onnx::Constant[value={1}]() # C:\\Users\\Aboud\\anaconda3\\envs\\hand_gesture_based_control\\lib\\site-packages\\torch\\nn\\functional.py:4846:0\n",
      "  %127 : Long(1, strides=[1], device=cpu) = onnx::Constant[value={1}]() # C:\\Users\\Aboud\\anaconda3\\envs\\hand_gesture_based_control\\lib\\site-packages\\torch\\nn\\functional.py:4846:0\n",
      "  %128 : Float(1, 3, 1, 162, strides=[59292, 19764, 162, 1], requires_grad=0, device=cpu) = onnx::Slice(%118, %125, %126, %124, %127) # C:\\Users\\Aboud\\anaconda3\\envs\\hand_gesture_based_control\\lib\\site-packages\\torch\\nn\\functional.py:4846:0\n",
      "  %129 : Long(4, strides=[1], device=cpu) = onnx::Shape(%128) # C:\\Users\\Aboud\\anaconda3\\envs\\hand_gesture_based_control\\lib\\site-packages\\torch\\nn\\functional.py:4846:0\n",
      "  %130 : Float(1, 3, 1, 162, strides=[59292, 19764, 162, 1], requires_grad=0, device=cpu) = onnx::Expand(%123, %129) # C:\\Users\\Aboud\\anaconda3\\envs\\hand_gesture_based_control\\lib\\site-packages\\torch\\nn\\functional.py:4846:0\n",
      "  %131 : Long(1, strides=[1], requires_grad=0, device=cpu) = onnx::Constant[value={0}]() # C:\\Users\\Aboud\\anaconda3\\envs\\hand_gesture_based_control\\lib\\site-packages\\torch\\nn\\functional.py:4846:0\n",
      "  %132 : Long(1, 1, 1, strides=[1, 1, 1], requires_grad=0, device=cpu) = onnx::Constant[value={0}]() # C:\\Users\\Aboud\\anaconda3\\envs\\hand_gesture_based_control\\lib\\site-packages\\torch\\nn\\functional.py:4846:0\n",
      "  %133 : Long(3, 1, strides=[1, 1], requires_grad=0, device=cpu) = onnx::Constant[value= 0  1  2 [ CPULongType{3,1} ]]() # C:\\Users\\Aboud\\anaconda3\\envs\\hand_gesture_based_control\\lib\\site-packages\\torch\\nn\\functional.py:4846:0\n",
      "  %141 : Long(3, device=cpu) = onnx::ConstantOfShape[value={1}](%560) # C:\\Users\\Aboud\\anaconda3\\envs\\hand_gesture_based_control\\lib\\site-packages\\torch\\nn\\functional.py:4846:0\n",
      "  %142 : Long(requires_grad=0, device=cpu) = onnx::Constant[value={-1}]() # C:\\Users\\Aboud\\anaconda3\\envs\\hand_gesture_based_control\\lib\\site-packages\\torch\\nn\\functional.py:4846:0\n",
      "  %143 : Long(3, strides=[1], device=cpu) = onnx::Mul(%141, %142) # C:\\Users\\Aboud\\anaconda3\\envs\\hand_gesture_based_control\\lib\\site-packages\\torch\\nn\\functional.py:4846:0\n",
      "  %144 : Bool(3, strides=[1], device=cpu) = onnx::Equal(%559, %143) # C:\\Users\\Aboud\\anaconda3\\envs\\hand_gesture_based_control\\lib\\site-packages\\torch\\nn\\functional.py:4846:0\n",
      "  %145 : Long(3, strides=[1], device=cpu) = onnx::Where(%144, %141, %559) # C:\\Users\\Aboud\\anaconda3\\envs\\hand_gesture_based_control\\lib\\site-packages\\torch\\nn\\functional.py:4846:0\n",
      "  %146 : Long(1, 3, 1, device=cpu) = onnx::Expand(%132, %145) # C:\\Users\\Aboud\\anaconda3\\envs\\hand_gesture_based_control\\lib\\site-packages\\torch\\nn\\functional.py:4846:0\n",
      "  %147 : Long(1, 3, 1, 1, strides=[3, 1, 1, 1], device=cpu) = onnx::Unsqueeze[axes=[-1]](%146) # C:\\Users\\Aboud\\anaconda3\\envs\\hand_gesture_based_control\\lib\\site-packages\\torch\\nn\\functional.py:4846:0\n",
      "  %149 : Long(3, device=cpu) = onnx::ConstantOfShape[value={1}](%561) # C:\\Users\\Aboud\\anaconda3\\envs\\hand_gesture_based_control\\lib\\site-packages\\torch\\nn\\functional.py:4846:0\n",
      "  %150 : Long(requires_grad=0, device=cpu) = onnx::Constant[value={-1}]() # C:\\Users\\Aboud\\anaconda3\\envs\\hand_gesture_based_control\\lib\\site-packages\\torch\\nn\\functional.py:4846:0\n",
      "  %151 : Long(3, strides=[1], device=cpu) = onnx::Mul(%149, %150) # C:\\Users\\Aboud\\anaconda3\\envs\\hand_gesture_based_control\\lib\\site-packages\\torch\\nn\\functional.py:4846:0\n",
      "  %152 : Bool(3, strides=[1], device=cpu) = onnx::Equal(%559, %151) # C:\\Users\\Aboud\\anaconda3\\envs\\hand_gesture_based_control\\lib\\site-packages\\torch\\nn\\functional.py:4846:0\n",
      "  %153 : Long(3, strides=[1], device=cpu) = onnx::Where(%152, %149, %559) # C:\\Users\\Aboud\\anaconda3\\envs\\hand_gesture_based_control\\lib\\site-packages\\torch\\nn\\functional.py:4846:0\n",
      "  %154 : Long(1, 3, 1, device=cpu) = onnx::Expand(%133, %153) # C:\\Users\\Aboud\\anaconda3\\envs\\hand_gesture_based_control\\lib\\site-packages\\torch\\nn\\functional.py:4846:0\n",
      "  %155 : Long(1, 3, 1, 1, strides=[3, 1, 1, 1], device=cpu) = onnx::Unsqueeze[axes=[-1]](%154) # C:\\Users\\Aboud\\anaconda3\\envs\\hand_gesture_based_control\\lib\\site-packages\\torch\\nn\\functional.py:4846:0\n",
      "  %157 : Long(3, device=cpu) = onnx::ConstantOfShape[value={1}](%562) # C:\\Users\\Aboud\\anaconda3\\envs\\hand_gesture_based_control\\lib\\site-packages\\torch\\nn\\functional.py:4846:0\n",
      "  %158 : Long(requires_grad=0, device=cpu) = onnx::Constant[value={-1}]() # C:\\Users\\Aboud\\anaconda3\\envs\\hand_gesture_based_control\\lib\\site-packages\\torch\\nn\\functional.py:4846:0\n",
      "  %159 : Long(3, strides=[1], device=cpu) = onnx::Mul(%157, %158) # C:\\Users\\Aboud\\anaconda3\\envs\\hand_gesture_based_control\\lib\\site-packages\\torch\\nn\\functional.py:4846:0\n",
      "  %160 : Bool(3, strides=[1], device=cpu) = onnx::Equal(%559, %159) # C:\\Users\\Aboud\\anaconda3\\envs\\hand_gesture_based_control\\lib\\site-packages\\torch\\nn\\functional.py:4846:0\n",
      "  %161 : Long(3, strides=[1], device=cpu) = onnx::Where(%160, %157, %559) # C:\\Users\\Aboud\\anaconda3\\envs\\hand_gesture_based_control\\lib\\site-packages\\torch\\nn\\functional.py:4846:0\n",
      "  %162 : Long(1, 3, 1, device=cpu) = onnx::Expand(%131, %161) # C:\\Users\\Aboud\\anaconda3\\envs\\hand_gesture_based_control\\lib\\site-packages\\torch\\nn\\functional.py:4846:0\n",
      "  %163 : Long(1, 3, 1, 1, strides=[3, 1, 1, 1], device=cpu) = onnx::Unsqueeze[axes=[-1]](%162) # C:\\Users\\Aboud\\anaconda3\\envs\\hand_gesture_based_control\\lib\\site-packages\\torch\\nn\\functional.py:4846:0\n",
      "  %164 : Long(1, 3, 1, 3, strides=[9, 3, 3, 1], device=cpu) = onnx::Concat[axis=-1](%147, %155, %163) # C:\\Users\\Aboud\\anaconda3\\envs\\hand_gesture_based_control\\lib\\site-packages\\torch\\nn\\functional.py:4846:0\n",
      "  %165 : Long(4, strides=[1], device=cpu) = onnx::Shape(%118) # C:\\Users\\Aboud\\anaconda3\\envs\\hand_gesture_based_control\\lib\\site-packages\\torch\\nn\\functional.py:4846:0\n",
      "  %166 : Long(1, strides=[1], device=cpu) = onnx::Constant[value={0}]() # C:\\Users\\Aboud\\anaconda3\\envs\\hand_gesture_based_control\\lib\\site-packages\\torch\\nn\\functional.py:4846:0\n",
      "  %167 : Long(1, strides=[1], device=cpu) = onnx::Constant[value={3}]() # C:\\Users\\Aboud\\anaconda3\\envs\\hand_gesture_based_control\\lib\\site-packages\\torch\\nn\\functional.py:4846:0\n",
      "  %168 : Long(1, strides=[1], device=cpu) = onnx::Constant[value={9223372036854775807}]() # C:\\Users\\Aboud\\anaconda3\\envs\\hand_gesture_based_control\\lib\\site-packages\\torch\\nn\\functional.py:4846:0\n",
      "  %169 : Long(1, strides=[1], device=cpu) = onnx::Slice(%165, %167, %168, %166) # C:\\Users\\Aboud\\anaconda3\\envs\\hand_gesture_based_control\\lib\\site-packages\\torch\\nn\\functional.py:4846:0\n",
      "  %170 : Long(4, strides=[1], device=cpu) = onnx::Concat[axis=0](%559, %169) # C:\\Users\\Aboud\\anaconda3\\envs\\hand_gesture_based_control\\lib\\site-packages\\torch\\nn\\functional.py:4846:0\n",
      "  %171 : Float(1, 3, 1, 162, device=cpu) = onnx::Reshape(%130, %170) # C:\\Users\\Aboud\\anaconda3\\envs\\hand_gesture_based_control\\lib\\site-packages\\torch\\nn\\functional.py:4846:0\n",
      "  %172 : Float(1, 3, 122, 162, strides=[59292, 19764, 162, 1], requires_grad=0, device=cpu) = onnx::ScatterND(%118, %164, %171) # C:\\Users\\Aboud\\anaconda3\\envs\\hand_gesture_based_control\\lib\\site-packages\\torch\\nn\\functional.py:4846:0\n",
      "  %173 : Long(1, strides=[1], device=cpu) = onnx::Constant[value={2}]() # C:\\Users\\Aboud\\anaconda3\\envs\\hand_gesture_based_control\\lib\\site-packages\\torch\\nn\\functional.py:4852:0\n",
      "  %174 : Long(1, strides=[1], device=cpu) = onnx::Constant[value={1}]() # C:\\Users\\Aboud\\anaconda3\\envs\\hand_gesture_based_control\\lib\\site-packages\\torch\\nn\\functional.py:4852:0\n",
      "  %175 : Long(1, strides=[1], device=cpu) = onnx::Constant[value={2}]() # C:\\Users\\Aboud\\anaconda3\\envs\\hand_gesture_based_control\\lib\\site-packages\\torch\\nn\\functional.py:4852:0\n",
      "  %176 : Long(1, strides=[1], device=cpu) = onnx::Constant[value={1}]() # C:\\Users\\Aboud\\anaconda3\\envs\\hand_gesture_based_control\\lib\\site-packages\\torch\\nn\\functional.py:4852:0\n",
      "  %177 : Float(1, 3, 1, 162, strides=[59292, 19764, 162, 1], requires_grad=0, device=cpu) = onnx::Slice(%172, %174, %175, %173, %176) # C:\\Users\\Aboud\\anaconda3\\envs\\hand_gesture_based_control\\lib\\site-packages\\torch\\nn\\functional.py:4852:0\n",
      "  %178 : Long(1, strides=[1], device=cpu) = onnx::Constant[value={2}]() # C:\\Users\\Aboud\\anaconda3\\envs\\hand_gesture_based_control\\lib\\site-packages\\torch\\nn\\functional.py:4852:0\n",
      "  %179 : Long(1, strides=[1], device=cpu) = onnx::Constant[value={121}]() # C:\\Users\\Aboud\\anaconda3\\envs\\hand_gesture_based_control\\lib\\site-packages\\torch\\nn\\functional.py:4852:0\n",
      "  %180 : Long(1, strides=[1], device=cpu) = onnx::Constant[value={122}]() # C:\\Users\\Aboud\\anaconda3\\envs\\hand_gesture_based_control\\lib\\site-packages\\torch\\nn\\functional.py:4852:0\n",
      "  %181 : Long(1, strides=[1], device=cpu) = onnx::Constant[value={1}]() # C:\\Users\\Aboud\\anaconda3\\envs\\hand_gesture_based_control\\lib\\site-packages\\torch\\nn\\functional.py:4852:0\n",
      "  %182 : Float(1, 3, 1, 162, strides=[59292, 19764, 162, 1], requires_grad=0, device=cpu) = onnx::Slice(%172, %179, %180, %178, %181) # C:\\Users\\Aboud\\anaconda3\\envs\\hand_gesture_based_control\\lib\\site-packages\\torch\\nn\\functional.py:4852:0\n",
      "  %183 : Long(4, strides=[1], device=cpu) = onnx::Shape(%182) # C:\\Users\\Aboud\\anaconda3\\envs\\hand_gesture_based_control\\lib\\site-packages\\torch\\nn\\functional.py:4852:0\n",
      "  %184 : Float(1, 3, 1, 162, strides=[59292, 19764, 162, 1], requires_grad=0, device=cpu) = onnx::Expand(%177, %183) # C:\\Users\\Aboud\\anaconda3\\envs\\hand_gesture_based_control\\lib\\site-packages\\torch\\nn\\functional.py:4852:0\n",
      "  %185 : Long(1, strides=[1], requires_grad=0, device=cpu) = onnx::Constant[value={121}]() # C:\\Users\\Aboud\\anaconda3\\envs\\hand_gesture_based_control\\lib\\site-packages\\torch\\nn\\functional.py:4852:0\n",
      "  %186 : Long(1, 1, 1, strides=[1, 1, 1], requires_grad=0, device=cpu) = onnx::Constant[value={0}]() # C:\\Users\\Aboud\\anaconda3\\envs\\hand_gesture_based_control\\lib\\site-packages\\torch\\nn\\functional.py:4852:0\n",
      "  %187 : Long(3, 1, strides=[1, 1], requires_grad=0, device=cpu) = onnx::Constant[value= 0  1  2 [ CPULongType{3,1} ]]() # C:\\Users\\Aboud\\anaconda3\\envs\\hand_gesture_based_control\\lib\\site-packages\\torch\\nn\\functional.py:4852:0\n",
      "  %195 : Long(3, device=cpu) = onnx::ConstantOfShape[value={1}](%566) # C:\\Users\\Aboud\\anaconda3\\envs\\hand_gesture_based_control\\lib\\site-packages\\torch\\nn\\functional.py:4852:0\n",
      "  %196 : Long(requires_grad=0, device=cpu) = onnx::Constant[value={-1}]() # C:\\Users\\Aboud\\anaconda3\\envs\\hand_gesture_based_control\\lib\\site-packages\\torch\\nn\\functional.py:4852:0\n",
      "  %197 : Long(3, strides=[1], device=cpu) = onnx::Mul(%195, %196) # C:\\Users\\Aboud\\anaconda3\\envs\\hand_gesture_based_control\\lib\\site-packages\\torch\\nn\\functional.py:4852:0\n",
      "  %198 : Bool(3, strides=[1], device=cpu) = onnx::Equal(%565, %197) # C:\\Users\\Aboud\\anaconda3\\envs\\hand_gesture_based_control\\lib\\site-packages\\torch\\nn\\functional.py:4852:0\n",
      "  %199 : Long(3, strides=[1], device=cpu) = onnx::Where(%198, %195, %565) # C:\\Users\\Aboud\\anaconda3\\envs\\hand_gesture_based_control\\lib\\site-packages\\torch\\nn\\functional.py:4852:0\n",
      "  %200 : Long(1, 3, 1, device=cpu) = onnx::Expand(%186, %199) # C:\\Users\\Aboud\\anaconda3\\envs\\hand_gesture_based_control\\lib\\site-packages\\torch\\nn\\functional.py:4852:0\n",
      "  %201 : Long(1, 3, 1, 1, strides=[3, 1, 1, 1], device=cpu) = onnx::Unsqueeze[axes=[-1]](%200) # C:\\Users\\Aboud\\anaconda3\\envs\\hand_gesture_based_control\\lib\\site-packages\\torch\\nn\\functional.py:4852:0\n",
      "  %203 : Long(3, device=cpu) = onnx::ConstantOfShape[value={1}](%567) # C:\\Users\\Aboud\\anaconda3\\envs\\hand_gesture_based_control\\lib\\site-packages\\torch\\nn\\functional.py:4852:0\n",
      "  %204 : Long(requires_grad=0, device=cpu) = onnx::Constant[value={-1}]() # C:\\Users\\Aboud\\anaconda3\\envs\\hand_gesture_based_control\\lib\\site-packages\\torch\\nn\\functional.py:4852:0\n",
      "  %205 : Long(3, strides=[1], device=cpu) = onnx::Mul(%203, %204) # C:\\Users\\Aboud\\anaconda3\\envs\\hand_gesture_based_control\\lib\\site-packages\\torch\\nn\\functional.py:4852:0\n",
      "  %206 : Bool(3, strides=[1], device=cpu) = onnx::Equal(%565, %205) # C:\\Users\\Aboud\\anaconda3\\envs\\hand_gesture_based_control\\lib\\site-packages\\torch\\nn\\functional.py:4852:0\n",
      "  %207 : Long(3, strides=[1], device=cpu) = onnx::Where(%206, %203, %565) # C:\\Users\\Aboud\\anaconda3\\envs\\hand_gesture_based_control\\lib\\site-packages\\torch\\nn\\functional.py:4852:0\n",
      "  %208 : Long(1, 3, 1, device=cpu) = onnx::Expand(%187, %207) # C:\\Users\\Aboud\\anaconda3\\envs\\hand_gesture_based_control\\lib\\site-packages\\torch\\nn\\functional.py:4852:0\n",
      "  %209 : Long(1, 3, 1, 1, strides=[3, 1, 1, 1], device=cpu) = onnx::Unsqueeze[axes=[-1]](%208) # C:\\Users\\Aboud\\anaconda3\\envs\\hand_gesture_based_control\\lib\\site-packages\\torch\\nn\\functional.py:4852:0\n",
      "  %211 : Long(3, device=cpu) = onnx::ConstantOfShape[value={1}](%568) # C:\\Users\\Aboud\\anaconda3\\envs\\hand_gesture_based_control\\lib\\site-packages\\torch\\nn\\functional.py:4852:0\n",
      "  %212 : Long(requires_grad=0, device=cpu) = onnx::Constant[value={-1}]() # C:\\Users\\Aboud\\anaconda3\\envs\\hand_gesture_based_control\\lib\\site-packages\\torch\\nn\\functional.py:4852:0\n",
      "  %213 : Long(3, strides=[1], device=cpu) = onnx::Mul(%211, %212) # C:\\Users\\Aboud\\anaconda3\\envs\\hand_gesture_based_control\\lib\\site-packages\\torch\\nn\\functional.py:4852:0\n",
      "  %214 : Bool(3, strides=[1], device=cpu) = onnx::Equal(%565, %213) # C:\\Users\\Aboud\\anaconda3\\envs\\hand_gesture_based_control\\lib\\site-packages\\torch\\nn\\functional.py:4852:0\n",
      "  %215 : Long(3, strides=[1], device=cpu) = onnx::Where(%214, %211, %565) # C:\\Users\\Aboud\\anaconda3\\envs\\hand_gesture_based_control\\lib\\site-packages\\torch\\nn\\functional.py:4852:0\n",
      "  %216 : Long(1, 3, 1, device=cpu) = onnx::Expand(%185, %215) # C:\\Users\\Aboud\\anaconda3\\envs\\hand_gesture_based_control\\lib\\site-packages\\torch\\nn\\functional.py:4852:0\n",
      "  %217 : Long(1, 3, 1, 1, strides=[3, 1, 1, 1], device=cpu) = onnx::Unsqueeze[axes=[-1]](%216) # C:\\Users\\Aboud\\anaconda3\\envs\\hand_gesture_based_control\\lib\\site-packages\\torch\\nn\\functional.py:4852:0\n",
      "  %218 : Long(1, 3, 1, 3, strides=[9, 3, 3, 1], device=cpu) = onnx::Concat[axis=-1](%201, %209, %217) # C:\\Users\\Aboud\\anaconda3\\envs\\hand_gesture_based_control\\lib\\site-packages\\torch\\nn\\functional.py:4852:0\n",
      "  %219 : Long(4, strides=[1], device=cpu) = onnx::Shape(%172) # C:\\Users\\Aboud\\anaconda3\\envs\\hand_gesture_based_control\\lib\\site-packages\\torch\\nn\\functional.py:4852:0\n",
      "  %220 : Long(1, strides=[1], device=cpu) = onnx::Constant[value={0}]() # C:\\Users\\Aboud\\anaconda3\\envs\\hand_gesture_based_control\\lib\\site-packages\\torch\\nn\\functional.py:4852:0\n",
      "  %221 : Long(1, strides=[1], device=cpu) = onnx::Constant[value={3}]() # C:\\Users\\Aboud\\anaconda3\\envs\\hand_gesture_based_control\\lib\\site-packages\\torch\\nn\\functional.py:4852:0\n",
      "  %222 : Long(1, strides=[1], device=cpu) = onnx::Constant[value={9223372036854775807}]() # C:\\Users\\Aboud\\anaconda3\\envs\\hand_gesture_based_control\\lib\\site-packages\\torch\\nn\\functional.py:4852:0\n",
      "  %223 : Long(1, strides=[1], device=cpu) = onnx::Slice(%219, %221, %222, %220) # C:\\Users\\Aboud\\anaconda3\\envs\\hand_gesture_based_control\\lib\\site-packages\\torch\\nn\\functional.py:4852:0\n",
      "  %224 : Long(4, strides=[1], device=cpu) = onnx::Concat[axis=0](%565, %223) # C:\\Users\\Aboud\\anaconda3\\envs\\hand_gesture_based_control\\lib\\site-packages\\torch\\nn\\functional.py:4852:0\n",
      "  %225 : Float(1, 3, 1, 162, device=cpu) = onnx::Reshape(%184, %224) # C:\\Users\\Aboud\\anaconda3\\envs\\hand_gesture_based_control\\lib\\site-packages\\torch\\nn\\functional.py:4852:0\n",
      "  %226 : Float(1, 3, 122, 162, strides=[59292, 19764, 162, 1], requires_grad=0, device=cpu) = onnx::ScatterND(%172, %218, %225) # C:\\Users\\Aboud\\anaconda3\\envs\\hand_gesture_based_control\\lib\\site-packages\\torch\\nn\\functional.py:4852:0\n",
      "  %227 : Long(1, strides=[1], device=cpu) = onnx::Constant[value={3}]() # C:\\Users\\Aboud\\anaconda3\\envs\\hand_gesture_based_control\\lib\\site-packages\\torch\\nn\\functional.py:4861:0\n",
      "  %228 : Long(1, strides=[1], device=cpu) = onnx::Constant[value={160}]() # C:\\Users\\Aboud\\anaconda3\\envs\\hand_gesture_based_control\\lib\\site-packages\\torch\\nn\\functional.py:4861:0\n",
      "  %229 : Long(1, strides=[1], device=cpu) = onnx::Constant[value={161}]() # C:\\Users\\Aboud\\anaconda3\\envs\\hand_gesture_based_control\\lib\\site-packages\\torch\\nn\\functional.py:4861:0\n",
      "  %230 : Long(1, strides=[1], device=cpu) = onnx::Constant[value={1}]() # C:\\Users\\Aboud\\anaconda3\\envs\\hand_gesture_based_control\\lib\\site-packages\\torch\\nn\\functional.py:4861:0\n",
      "  %231 : Float(1, 3, 122, 1, strides=[59292, 19764, 162, 1], requires_grad=0, device=cpu) = onnx::Slice(%226, %228, %229, %227, %230) # C:\\Users\\Aboud\\anaconda3\\envs\\hand_gesture_based_control\\lib\\site-packages\\torch\\nn\\functional.py:4861:0\n",
      "  %232 : Long(1, strides=[1], device=cpu) = onnx::Constant[value={3}]() # C:\\Users\\Aboud\\anaconda3\\envs\\hand_gesture_based_control\\lib\\site-packages\\torch\\nn\\functional.py:4861:0\n",
      "  %233 : Long(1, strides=[1], device=cpu) = onnx::Constant[value={0}]() # C:\\Users\\Aboud\\anaconda3\\envs\\hand_gesture_based_control\\lib\\site-packages\\torch\\nn\\functional.py:4861:0\n",
      "  %234 : Long(1, strides=[1], device=cpu) = onnx::Constant[value={1}]() # C:\\Users\\Aboud\\anaconda3\\envs\\hand_gesture_based_control\\lib\\site-packages\\torch\\nn\\functional.py:4861:0\n",
      "  %235 : Long(1, strides=[1], device=cpu) = onnx::Constant[value={1}]() # C:\\Users\\Aboud\\anaconda3\\envs\\hand_gesture_based_control\\lib\\site-packages\\torch\\nn\\functional.py:4861:0\n",
      "  %236 : Float(1, 3, 122, 1, strides=[59292, 19764, 162, 1], requires_grad=0, device=cpu) = onnx::Slice(%226, %233, %234, %232, %235) # C:\\Users\\Aboud\\anaconda3\\envs\\hand_gesture_based_control\\lib\\site-packages\\torch\\nn\\functional.py:4861:0\n",
      "  %237 : Long(4, strides=[1], device=cpu) = onnx::Shape(%236) # C:\\Users\\Aboud\\anaconda3\\envs\\hand_gesture_based_control\\lib\\site-packages\\torch\\nn\\functional.py:4861:0\n",
      "  %238 : Float(1, 3, 122, 1, strides=[59292, 19764, 162, 1], requires_grad=0, device=cpu) = onnx::Expand(%231, %237) # C:\\Users\\Aboud\\anaconda3\\envs\\hand_gesture_based_control\\lib\\site-packages\\torch\\nn\\functional.py:4861:0\n",
      "  %239 : Long(1, strides=[1], requires_grad=0, device=cpu) = onnx::Constant[value={0}]() # C:\\Users\\Aboud\\anaconda3\\envs\\hand_gesture_based_control\\lib\\site-packages\\torch\\nn\\functional.py:4861:0\n",
      "  %240 : Long(1, 1, 1, 1, strides=[1, 1, 1, 1], requires_grad=0, device=cpu) = onnx::Constant[value={0}]() # C:\\Users\\Aboud\\anaconda3\\envs\\hand_gesture_based_control\\lib\\site-packages\\torch\\nn\\functional.py:4861:0\n",
      "  %241 : Long(3, 1, 1, strides=[1, 1, 1], requires_grad=0, device=cpu) = onnx::Constant[value=(1,.,.) =    0  (2,.,.) =    1  (3,.,.) =    2 [ CPULongType{3,1,1} ]]() # C:\\Users\\Aboud\\anaconda3\\envs\\hand_gesture_based_control\\lib\\site-packages\\torch\\nn\\functional.py:4861:0\n",
      "  %242 : Long(122, 1, strides=[1, 1], requires_grad=0, device=cpu) = onnx::Constant[value=<Tensor>]() # C:\\Users\\Aboud\\anaconda3\\envs\\hand_gesture_based_control\\lib\\site-packages\\torch\\nn\\functional.py:4861:0\n",
      "  %252 : Long(4, device=cpu) = onnx::ConstantOfShape[value={1}](%573) # C:\\Users\\Aboud\\anaconda3\\envs\\hand_gesture_based_control\\lib\\site-packages\\torch\\nn\\functional.py:4861:0\n",
      "  %253 : Long(requires_grad=0, device=cpu) = onnx::Constant[value={-1}]() # C:\\Users\\Aboud\\anaconda3\\envs\\hand_gesture_based_control\\lib\\site-packages\\torch\\nn\\functional.py:4861:0\n",
      "  %254 : Long(4, strides=[1], device=cpu) = onnx::Mul(%252, %253) # C:\\Users\\Aboud\\anaconda3\\envs\\hand_gesture_based_control\\lib\\site-packages\\torch\\nn\\functional.py:4861:0\n",
      "  %255 : Bool(4, strides=[1], device=cpu) = onnx::Equal(%572, %254) # C:\\Users\\Aboud\\anaconda3\\envs\\hand_gesture_based_control\\lib\\site-packages\\torch\\nn\\functional.py:4861:0\n",
      "  %256 : Long(4, strides=[1], device=cpu) = onnx::Where(%255, %252, %572) # C:\\Users\\Aboud\\anaconda3\\envs\\hand_gesture_based_control\\lib\\site-packages\\torch\\nn\\functional.py:4861:0\n",
      "  %257 : Long(1, 3, 122, 1, device=cpu) = onnx::Expand(%240, %256) # C:\\Users\\Aboud\\anaconda3\\envs\\hand_gesture_based_control\\lib\\site-packages\\torch\\nn\\functional.py:4861:0\n",
      "  %258 : Long(1, 3, 122, 1, 1, strides=[366, 122, 1, 1, 1], device=cpu) = onnx::Unsqueeze[axes=[-1]](%257) # C:\\Users\\Aboud\\anaconda3\\envs\\hand_gesture_based_control\\lib\\site-packages\\torch\\nn\\functional.py:4861:0\n",
      "  %260 : Long(4, device=cpu) = onnx::ConstantOfShape[value={1}](%574) # C:\\Users\\Aboud\\anaconda3\\envs\\hand_gesture_based_control\\lib\\site-packages\\torch\\nn\\functional.py:4861:0\n",
      "  %261 : Long(requires_grad=0, device=cpu) = onnx::Constant[value={-1}]() # C:\\Users\\Aboud\\anaconda3\\envs\\hand_gesture_based_control\\lib\\site-packages\\torch\\nn\\functional.py:4861:0\n",
      "  %262 : Long(4, strides=[1], device=cpu) = onnx::Mul(%260, %261) # C:\\Users\\Aboud\\anaconda3\\envs\\hand_gesture_based_control\\lib\\site-packages\\torch\\nn\\functional.py:4861:0\n",
      "  %263 : Bool(4, strides=[1], device=cpu) = onnx::Equal(%572, %262) # C:\\Users\\Aboud\\anaconda3\\envs\\hand_gesture_based_control\\lib\\site-packages\\torch\\nn\\functional.py:4861:0\n",
      "  %264 : Long(4, strides=[1], device=cpu) = onnx::Where(%263, %260, %572) # C:\\Users\\Aboud\\anaconda3\\envs\\hand_gesture_based_control\\lib\\site-packages\\torch\\nn\\functional.py:4861:0\n",
      "  %265 : Long(1, 3, 122, 1, device=cpu) = onnx::Expand(%241, %264) # C:\\Users\\Aboud\\anaconda3\\envs\\hand_gesture_based_control\\lib\\site-packages\\torch\\nn\\functional.py:4861:0\n",
      "  %266 : Long(1, 3, 122, 1, 1, strides=[366, 122, 1, 1, 1], device=cpu) = onnx::Unsqueeze[axes=[-1]](%265) # C:\\Users\\Aboud\\anaconda3\\envs\\hand_gesture_based_control\\lib\\site-packages\\torch\\nn\\functional.py:4861:0\n",
      "  %268 : Long(4, device=cpu) = onnx::ConstantOfShape[value={1}](%575) # C:\\Users\\Aboud\\anaconda3\\envs\\hand_gesture_based_control\\lib\\site-packages\\torch\\nn\\functional.py:4861:0\n",
      "  %269 : Long(requires_grad=0, device=cpu) = onnx::Constant[value={-1}]() # C:\\Users\\Aboud\\anaconda3\\envs\\hand_gesture_based_control\\lib\\site-packages\\torch\\nn\\functional.py:4861:0\n",
      "  %270 : Long(4, strides=[1], device=cpu) = onnx::Mul(%268, %269) # C:\\Users\\Aboud\\anaconda3\\envs\\hand_gesture_based_control\\lib\\site-packages\\torch\\nn\\functional.py:4861:0\n",
      "  %271 : Bool(4, strides=[1], device=cpu) = onnx::Equal(%572, %270) # C:\\Users\\Aboud\\anaconda3\\envs\\hand_gesture_based_control\\lib\\site-packages\\torch\\nn\\functional.py:4861:0\n",
      "  %272 : Long(4, strides=[1], device=cpu) = onnx::Where(%271, %268, %572) # C:\\Users\\Aboud\\anaconda3\\envs\\hand_gesture_based_control\\lib\\site-packages\\torch\\nn\\functional.py:4861:0\n",
      "  %273 : Long(1, 3, 122, 1, device=cpu) = onnx::Expand(%242, %272) # C:\\Users\\Aboud\\anaconda3\\envs\\hand_gesture_based_control\\lib\\site-packages\\torch\\nn\\functional.py:4861:0\n",
      "  %274 : Long(1, 3, 122, 1, 1, strides=[366, 122, 1, 1, 1], device=cpu) = onnx::Unsqueeze[axes=[-1]](%273) # C:\\Users\\Aboud\\anaconda3\\envs\\hand_gesture_based_control\\lib\\site-packages\\torch\\nn\\functional.py:4861:0\n",
      "  %276 : Long(4, device=cpu) = onnx::ConstantOfShape[value={1}](%576) # C:\\Users\\Aboud\\anaconda3\\envs\\hand_gesture_based_control\\lib\\site-packages\\torch\\nn\\functional.py:4861:0\n",
      "  %277 : Long(requires_grad=0, device=cpu) = onnx::Constant[value={-1}]() # C:\\Users\\Aboud\\anaconda3\\envs\\hand_gesture_based_control\\lib\\site-packages\\torch\\nn\\functional.py:4861:0\n",
      "  %278 : Long(4, strides=[1], device=cpu) = onnx::Mul(%276, %277) # C:\\Users\\Aboud\\anaconda3\\envs\\hand_gesture_based_control\\lib\\site-packages\\torch\\nn\\functional.py:4861:0\n",
      "  %279 : Bool(4, strides=[1], device=cpu) = onnx::Equal(%572, %278) # C:\\Users\\Aboud\\anaconda3\\envs\\hand_gesture_based_control\\lib\\site-packages\\torch\\nn\\functional.py:4861:0\n",
      "  %280 : Long(4, strides=[1], device=cpu) = onnx::Where(%279, %276, %572) # C:\\Users\\Aboud\\anaconda3\\envs\\hand_gesture_based_control\\lib\\site-packages\\torch\\nn\\functional.py:4861:0\n",
      "  %281 : Long(1, 3, 122, 1, device=cpu) = onnx::Expand(%239, %280) # C:\\Users\\Aboud\\anaconda3\\envs\\hand_gesture_based_control\\lib\\site-packages\\torch\\nn\\functional.py:4861:0\n",
      "  %282 : Long(1, 3, 122, 1, 1, strides=[366, 122, 1, 1, 1], device=cpu) = onnx::Unsqueeze[axes=[-1]](%281) # C:\\Users\\Aboud\\anaconda3\\envs\\hand_gesture_based_control\\lib\\site-packages\\torch\\nn\\functional.py:4861:0\n",
      "  %283 : Long(1, 3, 122, 1, 4, strides=[1464, 488, 4, 4, 1], device=cpu) = onnx::Concat[axis=-1](%258, %266, %274, %282) # C:\\Users\\Aboud\\anaconda3\\envs\\hand_gesture_based_control\\lib\\site-packages\\torch\\nn\\functional.py:4861:0\n",
      "  %284 : Long(4, strides=[1], device=cpu) = onnx::Shape(%226) # C:\\Users\\Aboud\\anaconda3\\envs\\hand_gesture_based_control\\lib\\site-packages\\torch\\nn\\functional.py:4861:0\n",
      "  %285 : Long(1, strides=[1], device=cpu) = onnx::Constant[value={0}]() # C:\\Users\\Aboud\\anaconda3\\envs\\hand_gesture_based_control\\lib\\site-packages\\torch\\nn\\functional.py:4861:0\n",
      "  %286 : Long(1, strides=[1], device=cpu) = onnx::Constant[value={4}]() # C:\\Users\\Aboud\\anaconda3\\envs\\hand_gesture_based_control\\lib\\site-packages\\torch\\nn\\functional.py:4861:0\n",
      "  %287 : Long(1, strides=[1], device=cpu) = onnx::Constant[value={9223372036854775807}]() # C:\\Users\\Aboud\\anaconda3\\envs\\hand_gesture_based_control\\lib\\site-packages\\torch\\nn\\functional.py:4861:0\n",
      "  %288 : Long(0, strides=[1], device=cpu) = onnx::Slice(%284, %286, %287, %285) # C:\\Users\\Aboud\\anaconda3\\envs\\hand_gesture_based_control\\lib\\site-packages\\torch\\nn\\functional.py:4861:0\n",
      "  %289 : Long(4, strides=[1], device=cpu) = onnx::Concat[axis=0](%572, %288) # C:\\Users\\Aboud\\anaconda3\\envs\\hand_gesture_based_control\\lib\\site-packages\\torch\\nn\\functional.py:4861:0\n",
      "  %290 : Float(1, 3, 122, 1, device=cpu) = onnx::Reshape(%238, %289) # C:\\Users\\Aboud\\anaconda3\\envs\\hand_gesture_based_control\\lib\\site-packages\\torch\\nn\\functional.py:4861:0\n",
      "  %291 : Float(1, 3, 122, 162, strides=[59292, 19764, 162, 1], requires_grad=0, device=cpu) = onnx::ScatterND(%226, %283, %290) # C:\\Users\\Aboud\\anaconda3\\envs\\hand_gesture_based_control\\lib\\site-packages\\torch\\nn\\functional.py:4861:0\n",
      "  %292 : Long(1, strides=[1], device=cpu) = onnx::Constant[value={3}]() # C:\\Users\\Aboud\\anaconda3\\envs\\hand_gesture_based_control\\lib\\site-packages\\torch\\nn\\functional.py:4867:0\n",
      "  %293 : Long(1, strides=[1], device=cpu) = onnx::Constant[value={1}]() # C:\\Users\\Aboud\\anaconda3\\envs\\hand_gesture_based_control\\lib\\site-packages\\torch\\nn\\functional.py:4867:0\n",
      "  %294 : Long(1, strides=[1], device=cpu) = onnx::Constant[value={2}]() # C:\\Users\\Aboud\\anaconda3\\envs\\hand_gesture_based_control\\lib\\site-packages\\torch\\nn\\functional.py:4867:0\n",
      "  %295 : Long(1, strides=[1], device=cpu) = onnx::Constant[value={1}]() # C:\\Users\\Aboud\\anaconda3\\envs\\hand_gesture_based_control\\lib\\site-packages\\torch\\nn\\functional.py:4867:0\n",
      "  %296 : Float(1, 3, 122, 1, strides=[59292, 19764, 162, 1], requires_grad=0, device=cpu) = onnx::Slice(%291, %293, %294, %292, %295) # C:\\Users\\Aboud\\anaconda3\\envs\\hand_gesture_based_control\\lib\\site-packages\\torch\\nn\\functional.py:4867:0\n",
      "  %297 : Long(1, strides=[1], device=cpu) = onnx::Constant[value={3}]() # C:\\Users\\Aboud\\anaconda3\\envs\\hand_gesture_based_control\\lib\\site-packages\\torch\\nn\\functional.py:4867:0\n",
      "  %298 : Long(1, strides=[1], device=cpu) = onnx::Constant[value={161}]() # C:\\Users\\Aboud\\anaconda3\\envs\\hand_gesture_based_control\\lib\\site-packages\\torch\\nn\\functional.py:4867:0\n",
      "  %299 : Long(1, strides=[1], device=cpu) = onnx::Constant[value={162}]() # C:\\Users\\Aboud\\anaconda3\\envs\\hand_gesture_based_control\\lib\\site-packages\\torch\\nn\\functional.py:4867:0\n",
      "  %300 : Long(1, strides=[1], device=cpu) = onnx::Constant[value={1}]() # C:\\Users\\Aboud\\anaconda3\\envs\\hand_gesture_based_control\\lib\\site-packages\\torch\\nn\\functional.py:4867:0\n",
      "  %301 : Float(1, 3, 122, 1, strides=[59292, 19764, 162, 1], requires_grad=0, device=cpu) = onnx::Slice(%291, %298, %299, %297, %300) # C:\\Users\\Aboud\\anaconda3\\envs\\hand_gesture_based_control\\lib\\site-packages\\torch\\nn\\functional.py:4867:0\n",
      "  %302 : Long(4, strides=[1], device=cpu) = onnx::Shape(%301) # C:\\Users\\Aboud\\anaconda3\\envs\\hand_gesture_based_control\\lib\\site-packages\\torch\\nn\\functional.py:4867:0\n",
      "  %303 : Float(1, 3, 122, 1, strides=[59292, 19764, 162, 1], requires_grad=0, device=cpu) = onnx::Expand(%296, %302) # C:\\Users\\Aboud\\anaconda3\\envs\\hand_gesture_based_control\\lib\\site-packages\\torch\\nn\\functional.py:4867:0\n",
      "  %304 : Long(1, strides=[1], requires_grad=0, device=cpu) = onnx::Constant[value={161}]() # C:\\Users\\Aboud\\anaconda3\\envs\\hand_gesture_based_control\\lib\\site-packages\\torch\\nn\\functional.py:4867:0\n",
      "  %305 : Long(1, 1, 1, 1, strides=[1, 1, 1, 1], requires_grad=0, device=cpu) = onnx::Constant[value={0}]() # C:\\Users\\Aboud\\anaconda3\\envs\\hand_gesture_based_control\\lib\\site-packages\\torch\\nn\\functional.py:4867:0\n",
      "  %306 : Long(3, 1, 1, strides=[1, 1, 1], requires_grad=0, device=cpu) = onnx::Constant[value=(1,.,.) =    0  (2,.,.) =    1  (3,.,.) =    2 [ CPULongType{3,1,1} ]]() # C:\\Users\\Aboud\\anaconda3\\envs\\hand_gesture_based_control\\lib\\site-packages\\torch\\nn\\functional.py:4867:0\n",
      "  %307 : Long(122, 1, strides=[1, 1], requires_grad=0, device=cpu) = onnx::Constant[value=<Tensor>]() # C:\\Users\\Aboud\\anaconda3\\envs\\hand_gesture_based_control\\lib\\site-packages\\torch\\nn\\functional.py:4867:0\n",
      "  %317 : Long(4, device=cpu) = onnx::ConstantOfShape[value={1}](%581) # C:\\Users\\Aboud\\anaconda3\\envs\\hand_gesture_based_control\\lib\\site-packages\\torch\\nn\\functional.py:4867:0\n",
      "  %318 : Long(requires_grad=0, device=cpu) = onnx::Constant[value={-1}]() # C:\\Users\\Aboud\\anaconda3\\envs\\hand_gesture_based_control\\lib\\site-packages\\torch\\nn\\functional.py:4867:0\n",
      "  %319 : Long(4, strides=[1], device=cpu) = onnx::Mul(%317, %318) # C:\\Users\\Aboud\\anaconda3\\envs\\hand_gesture_based_control\\lib\\site-packages\\torch\\nn\\functional.py:4867:0\n",
      "  %320 : Bool(4, strides=[1], device=cpu) = onnx::Equal(%580, %319) # C:\\Users\\Aboud\\anaconda3\\envs\\hand_gesture_based_control\\lib\\site-packages\\torch\\nn\\functional.py:4867:0\n",
      "  %321 : Long(4, strides=[1], device=cpu) = onnx::Where(%320, %317, %580) # C:\\Users\\Aboud\\anaconda3\\envs\\hand_gesture_based_control\\lib\\site-packages\\torch\\nn\\functional.py:4867:0\n",
      "  %322 : Long(1, 3, 122, 1, device=cpu) = onnx::Expand(%305, %321) # C:\\Users\\Aboud\\anaconda3\\envs\\hand_gesture_based_control\\lib\\site-packages\\torch\\nn\\functional.py:4867:0\n",
      "  %323 : Long(1, 3, 122, 1, 1, strides=[366, 122, 1, 1, 1], device=cpu) = onnx::Unsqueeze[axes=[-1]](%322) # C:\\Users\\Aboud\\anaconda3\\envs\\hand_gesture_based_control\\lib\\site-packages\\torch\\nn\\functional.py:4867:0\n",
      "  %325 : Long(4, device=cpu) = onnx::ConstantOfShape[value={1}](%582) # C:\\Users\\Aboud\\anaconda3\\envs\\hand_gesture_based_control\\lib\\site-packages\\torch\\nn\\functional.py:4867:0\n",
      "  %326 : Long(requires_grad=0, device=cpu) = onnx::Constant[value={-1}]() # C:\\Users\\Aboud\\anaconda3\\envs\\hand_gesture_based_control\\lib\\site-packages\\torch\\nn\\functional.py:4867:0\n",
      "  %327 : Long(4, strides=[1], device=cpu) = onnx::Mul(%325, %326) # C:\\Users\\Aboud\\anaconda3\\envs\\hand_gesture_based_control\\lib\\site-packages\\torch\\nn\\functional.py:4867:0\n",
      "  %328 : Bool(4, strides=[1], device=cpu) = onnx::Equal(%580, %327) # C:\\Users\\Aboud\\anaconda3\\envs\\hand_gesture_based_control\\lib\\site-packages\\torch\\nn\\functional.py:4867:0\n",
      "  %329 : Long(4, strides=[1], device=cpu) = onnx::Where(%328, %325, %580) # C:\\Users\\Aboud\\anaconda3\\envs\\hand_gesture_based_control\\lib\\site-packages\\torch\\nn\\functional.py:4867:0\n",
      "  %330 : Long(1, 3, 122, 1, device=cpu) = onnx::Expand(%306, %329) # C:\\Users\\Aboud\\anaconda3\\envs\\hand_gesture_based_control\\lib\\site-packages\\torch\\nn\\functional.py:4867:0\n",
      "  %331 : Long(1, 3, 122, 1, 1, strides=[366, 122, 1, 1, 1], device=cpu) = onnx::Unsqueeze[axes=[-1]](%330) # C:\\Users\\Aboud\\anaconda3\\envs\\hand_gesture_based_control\\lib\\site-packages\\torch\\nn\\functional.py:4867:0\n",
      "  %333 : Long(4, device=cpu) = onnx::ConstantOfShape[value={1}](%583) # C:\\Users\\Aboud\\anaconda3\\envs\\hand_gesture_based_control\\lib\\site-packages\\torch\\nn\\functional.py:4867:0\n",
      "  %334 : Long(requires_grad=0, device=cpu) = onnx::Constant[value={-1}]() # C:\\Users\\Aboud\\anaconda3\\envs\\hand_gesture_based_control\\lib\\site-packages\\torch\\nn\\functional.py:4867:0\n",
      "  %335 : Long(4, strides=[1], device=cpu) = onnx::Mul(%333, %334) # C:\\Users\\Aboud\\anaconda3\\envs\\hand_gesture_based_control\\lib\\site-packages\\torch\\nn\\functional.py:4867:0\n",
      "  %336 : Bool(4, strides=[1], device=cpu) = onnx::Equal(%580, %335) # C:\\Users\\Aboud\\anaconda3\\envs\\hand_gesture_based_control\\lib\\site-packages\\torch\\nn\\functional.py:4867:0\n",
      "  %337 : Long(4, strides=[1], device=cpu) = onnx::Where(%336, %333, %580) # C:\\Users\\Aboud\\anaconda3\\envs\\hand_gesture_based_control\\lib\\site-packages\\torch\\nn\\functional.py:4867:0\n",
      "  %338 : Long(1, 3, 122, 1, device=cpu) = onnx::Expand(%307, %337) # C:\\Users\\Aboud\\anaconda3\\envs\\hand_gesture_based_control\\lib\\site-packages\\torch\\nn\\functional.py:4867:0\n",
      "  %339 : Long(1, 3, 122, 1, 1, strides=[366, 122, 1, 1, 1], device=cpu) = onnx::Unsqueeze[axes=[-1]](%338) # C:\\Users\\Aboud\\anaconda3\\envs\\hand_gesture_based_control\\lib\\site-packages\\torch\\nn\\functional.py:4867:0\n",
      "  %341 : Long(4, device=cpu) = onnx::ConstantOfShape[value={1}](%584) # C:\\Users\\Aboud\\anaconda3\\envs\\hand_gesture_based_control\\lib\\site-packages\\torch\\nn\\functional.py:4867:0\n",
      "  %342 : Long(requires_grad=0, device=cpu) = onnx::Constant[value={-1}]() # C:\\Users\\Aboud\\anaconda3\\envs\\hand_gesture_based_control\\lib\\site-packages\\torch\\nn\\functional.py:4867:0\n",
      "  %343 : Long(4, strides=[1], device=cpu) = onnx::Mul(%341, %342) # C:\\Users\\Aboud\\anaconda3\\envs\\hand_gesture_based_control\\lib\\site-packages\\torch\\nn\\functional.py:4867:0\n",
      "  %344 : Bool(4, strides=[1], device=cpu) = onnx::Equal(%580, %343) # C:\\Users\\Aboud\\anaconda3\\envs\\hand_gesture_based_control\\lib\\site-packages\\torch\\nn\\functional.py:4867:0\n",
      "  %345 : Long(4, strides=[1], device=cpu) = onnx::Where(%344, %341, %580) # C:\\Users\\Aboud\\anaconda3\\envs\\hand_gesture_based_control\\lib\\site-packages\\torch\\nn\\functional.py:4867:0\n",
      "  %346 : Long(1, 3, 122, 1, device=cpu) = onnx::Expand(%304, %345) # C:\\Users\\Aboud\\anaconda3\\envs\\hand_gesture_based_control\\lib\\site-packages\\torch\\nn\\functional.py:4867:0\n",
      "  %347 : Long(1, 3, 122, 1, 1, strides=[366, 122, 1, 1, 1], device=cpu) = onnx::Unsqueeze[axes=[-1]](%346) # C:\\Users\\Aboud\\anaconda3\\envs\\hand_gesture_based_control\\lib\\site-packages\\torch\\nn\\functional.py:4867:0\n",
      "  %348 : Long(1, 3, 122, 1, 4, strides=[1464, 488, 4, 4, 1], device=cpu) = onnx::Concat[axis=-1](%323, %331, %339, %347) # C:\\Users\\Aboud\\anaconda3\\envs\\hand_gesture_based_control\\lib\\site-packages\\torch\\nn\\functional.py:4867:0\n",
      "  %349 : Long(4, strides=[1], device=cpu) = onnx::Shape(%291) # C:\\Users\\Aboud\\anaconda3\\envs\\hand_gesture_based_control\\lib\\site-packages\\torch\\nn\\functional.py:4867:0\n",
      "  %350 : Long(1, strides=[1], device=cpu) = onnx::Constant[value={0}]() # C:\\Users\\Aboud\\anaconda3\\envs\\hand_gesture_based_control\\lib\\site-packages\\torch\\nn\\functional.py:4867:0\n",
      "  %351 : Long(1, strides=[1], device=cpu) = onnx::Constant[value={4}]() # C:\\Users\\Aboud\\anaconda3\\envs\\hand_gesture_based_control\\lib\\site-packages\\torch\\nn\\functional.py:4867:0\n",
      "  %352 : Long(1, strides=[1], device=cpu) = onnx::Constant[value={9223372036854775807}]() # C:\\Users\\Aboud\\anaconda3\\envs\\hand_gesture_based_control\\lib\\site-packages\\torch\\nn\\functional.py:4867:0\n",
      "  %353 : Long(0, strides=[1], device=cpu) = onnx::Slice(%349, %351, %352, %350) # C:\\Users\\Aboud\\anaconda3\\envs\\hand_gesture_based_control\\lib\\site-packages\\torch\\nn\\functional.py:4867:0\n",
      "  %354 : Long(4, strides=[1], device=cpu) = onnx::Concat[axis=0](%580, %353) # C:\\Users\\Aboud\\anaconda3\\envs\\hand_gesture_based_control\\lib\\site-packages\\torch\\nn\\functional.py:4867:0\n",
      "  %355 : Float(1, 3, 122, 1, device=cpu) = onnx::Reshape(%303, %354) # C:\\Users\\Aboud\\anaconda3\\envs\\hand_gesture_based_control\\lib\\site-packages\\torch\\nn\\functional.py:4867:0\n",
      "  %356 : Float(1, 3, 122, 162, strides=[59292, 19764, 162, 1], requires_grad=0, device=cpu) = onnx::ScatterND(%291, %348, %355) # C:\\Users\\Aboud\\anaconda3\\envs\\hand_gesture_based_control\\lib\\site-packages\\torch\\nn\\functional.py:4867:0\n",
      "  %input.4 : Float(1, 32, 120, 160, strides=[614400, 19200, 160, 1], requires_grad=1, device=cpu) = onnx::Conv[dilations=[1, 1], group=1, kernel_shape=[3, 3], pads=[0, 0, 0, 0], strides=[1, 1]](%356, %525, %526) # C:\\Users\\Aboud\\anaconda3\\envs\\hand_gesture_based_control\\lib\\site-packages\\torch\\nn\\modules\\conv.py:440:0\n",
      "  %input.8 : Float(1, 32, 120, 160, strides=[614400, 19200, 160, 1], requires_grad=1, device=cpu) = onnx::Relu(%input.4) # C:\\Users\\Aboud\\anaconda3\\envs\\hand_gesture_based_control\\lib\\site-packages\\torch\\nn\\functional.py:1442:0\n",
      "  %369 : Long(4, device=cpu) = onnx::ConstantOfShape[value={0}](%588) # C:\\Users\\Aboud\\anaconda3\\envs\\hand_gesture_based_control\\lib\\site-packages\\torch\\nn\\functional.py:4379:0\n",
      "  %370 : Long(8, strides=[1], device=cpu) = onnx::Concat[axis=0](%589, %369) # C:\\Users\\Aboud\\anaconda3\\envs\\hand_gesture_based_control\\lib\\site-packages\\torch\\nn\\functional.py:4379:0\n",
      "  %371 : Long(2, strides=[1], device=cpu) = onnx::Constant[value=-1  2 [ CPULongType{2} ]]() # C:\\Users\\Aboud\\anaconda3\\envs\\hand_gesture_based_control\\lib\\site-packages\\torch\\nn\\functional.py:4379:0\n",
      "  %372 : Long(4, 2, strides=[2, 1], device=cpu) = onnx::Reshape(%370, %371) # C:\\Users\\Aboud\\anaconda3\\envs\\hand_gesture_based_control\\lib\\site-packages\\torch\\nn\\functional.py:4379:0\n",
      "  %373 : Long(1, strides=[1], device=cpu) = onnx::Constant[value={0}]() # C:\\Users\\Aboud\\anaconda3\\envs\\hand_gesture_based_control\\lib\\site-packages\\torch\\nn\\functional.py:4379:0\n",
      "  %374 : Long(1, strides=[1], device=cpu) = onnx::Constant[value={-1}]() # C:\\Users\\Aboud\\anaconda3\\envs\\hand_gesture_based_control\\lib\\site-packages\\torch\\nn\\functional.py:4379:0\n",
      "  %375 : Long(1, strides=[1], device=cpu) = onnx::Constant[value={-9223372036854775807}]() # C:\\Users\\Aboud\\anaconda3\\envs\\hand_gesture_based_control\\lib\\site-packages\\torch\\nn\\functional.py:4379:0\n",
      "  %376 : Long(1, strides=[1], device=cpu) = onnx::Constant[value={-1}]() # C:\\Users\\Aboud\\anaconda3\\envs\\hand_gesture_based_control\\lib\\site-packages\\torch\\nn\\functional.py:4379:0\n",
      "  %377 : Long(4, 2, strides=[2, 1], device=cpu) = onnx::Slice(%372, %374, %375, %373, %376) # C:\\Users\\Aboud\\anaconda3\\envs\\hand_gesture_based_control\\lib\\site-packages\\torch\\nn\\functional.py:4379:0\n",
      "  %378 : Long(2, 4, strides=[4, 1], device=cpu) = onnx::Transpose[perm=[1, 0]](%377) # C:\\Users\\Aboud\\anaconda3\\envs\\hand_gesture_based_control\\lib\\site-packages\\torch\\nn\\functional.py:4379:0\n",
      "  %379 : Long(1, strides=[1], device=cpu) = onnx::Constant[value={-1}]() # C:\\Users\\Aboud\\anaconda3\\envs\\hand_gesture_based_control\\lib\\site-packages\\torch\\nn\\functional.py:4379:0\n",
      "  %380 : Long(8, strides=[1], device=cpu) = onnx::Reshape(%378, %379) # C:\\Users\\Aboud\\anaconda3\\envs\\hand_gesture_based_control\\lib\\site-packages\\torch\\nn\\functional.py:4379:0\n",
      "  %381 : Long(8, strides=[1], device=cpu) = onnx::Cast[to=7](%380) # C:\\Users\\Aboud\\anaconda3\\envs\\hand_gesture_based_control\\lib\\site-packages\\torch\\nn\\functional.py:4379:0\n",
      "  %input.12 : Float(*, *, *, *, strides=[632448, 19764, 162, 1], requires_grad=1, device=cpu) = onnx::Pad[mode=\"reflect\"](%input.8, %381) # C:\\Users\\Aboud\\anaconda3\\envs\\hand_gesture_based_control\\lib\\site-packages\\torch\\nn\\functional.py:4379:0\n",
      "  %input.20 : Float(*, 32, *, *, strides=[614400, 19200, 160, 1], requires_grad=1, device=cpu) = onnx::Conv[dilations=[1, 1], group=1, kernel_shape=[3, 3], pads=[0, 0, 0, 0], strides=[1, 1]](%input.12, %528, %529) # C:\\Users\\Aboud\\anaconda3\\envs\\hand_gesture_based_control\\lib\\site-packages\\torch\\nn\\modules\\conv.py:443:0\n",
      "  %385 : Float(*, 32, *, *, strides=[614400, 19200, 160, 1], requires_grad=1, device=cpu) = onnx::Relu(%input.20) # C:\\Users\\Aboud\\anaconda3\\envs\\hand_gesture_based_control\\lib\\site-packages\\torch\\nn\\functional.py:1442:0\n",
      "  %input.24 : Float(*, 32, *, *, strides=[153600, 4800, 80, 1], requires_grad=1, device=cpu) = onnx::MaxPool[ceil_mode=0, kernel_shape=[2, 2], pads=[0, 0, 0, 0], strides=[2, 2]](%385) # C:\\Users\\Aboud\\anaconda3\\envs\\hand_gesture_based_control\\lib\\site-packages\\torch\\nn\\functional.py:797:0\n",
      "  %396 : Long(4, device=cpu) = onnx::ConstantOfShape[value={0}](%593) # C:\\Users\\Aboud\\anaconda3\\envs\\hand_gesture_based_control\\lib\\site-packages\\torch\\nn\\functional.py:4379:0\n",
      "  %397 : Long(8, strides=[1], device=cpu) = onnx::Concat[axis=0](%594, %396) # C:\\Users\\Aboud\\anaconda3\\envs\\hand_gesture_based_control\\lib\\site-packages\\torch\\nn\\functional.py:4379:0\n",
      "  %398 : Long(2, strides=[1], device=cpu) = onnx::Constant[value=-1  2 [ CPULongType{2} ]]() # C:\\Users\\Aboud\\anaconda3\\envs\\hand_gesture_based_control\\lib\\site-packages\\torch\\nn\\functional.py:4379:0\n",
      "  %399 : Long(4, 2, strides=[2, 1], device=cpu) = onnx::Reshape(%397, %398) # C:\\Users\\Aboud\\anaconda3\\envs\\hand_gesture_based_control\\lib\\site-packages\\torch\\nn\\functional.py:4379:0\n",
      "  %400 : Long(1, strides=[1], device=cpu) = onnx::Constant[value={0}]() # C:\\Users\\Aboud\\anaconda3\\envs\\hand_gesture_based_control\\lib\\site-packages\\torch\\nn\\functional.py:4379:0\n",
      "  %401 : Long(1, strides=[1], device=cpu) = onnx::Constant[value={-1}]() # C:\\Users\\Aboud\\anaconda3\\envs\\hand_gesture_based_control\\lib\\site-packages\\torch\\nn\\functional.py:4379:0\n",
      "  %402 : Long(1, strides=[1], device=cpu) = onnx::Constant[value={-9223372036854775807}]() # C:\\Users\\Aboud\\anaconda3\\envs\\hand_gesture_based_control\\lib\\site-packages\\torch\\nn\\functional.py:4379:0\n",
      "  %403 : Long(1, strides=[1], device=cpu) = onnx::Constant[value={-1}]() # C:\\Users\\Aboud\\anaconda3\\envs\\hand_gesture_based_control\\lib\\site-packages\\torch\\nn\\functional.py:4379:0\n",
      "  %404 : Long(4, 2, strides=[2, 1], device=cpu) = onnx::Slice(%399, %401, %402, %400, %403) # C:\\Users\\Aboud\\anaconda3\\envs\\hand_gesture_based_control\\lib\\site-packages\\torch\\nn\\functional.py:4379:0\n",
      "  %405 : Long(2, 4, strides=[4, 1], device=cpu) = onnx::Transpose[perm=[1, 0]](%404) # C:\\Users\\Aboud\\anaconda3\\envs\\hand_gesture_based_control\\lib\\site-packages\\torch\\nn\\functional.py:4379:0\n",
      "  %406 : Long(1, strides=[1], device=cpu) = onnx::Constant[value={-1}]() # C:\\Users\\Aboud\\anaconda3\\envs\\hand_gesture_based_control\\lib\\site-packages\\torch\\nn\\functional.py:4379:0\n",
      "  %407 : Long(8, strides=[1], device=cpu) = onnx::Reshape(%405, %406) # C:\\Users\\Aboud\\anaconda3\\envs\\hand_gesture_based_control\\lib\\site-packages\\torch\\nn\\functional.py:4379:0\n",
      "  %408 : Long(8, strides=[1], device=cpu) = onnx::Cast[to=7](%407) # C:\\Users\\Aboud\\anaconda3\\envs\\hand_gesture_based_control\\lib\\site-packages\\torch\\nn\\functional.py:4379:0\n",
      "  %input.28 : Float(*, *, *, *, strides=[162688, 5084, 82, 1], requires_grad=1, device=cpu) = onnx::Pad[mode=\"reflect\"](%input.24, %408) # C:\\Users\\Aboud\\anaconda3\\envs\\hand_gesture_based_control\\lib\\site-packages\\torch\\nn\\functional.py:4379:0\n",
      "  %input.36 : Float(*, 64, *, *, strides=[307200, 4800, 80, 1], requires_grad=1, device=cpu) = onnx::Conv[dilations=[1, 1], group=1, kernel_shape=[3, 3], pads=[0, 0, 0, 0], strides=[1, 1]](%input.28, %531, %532) # C:\\Users\\Aboud\\anaconda3\\envs\\hand_gesture_based_control\\lib\\site-packages\\torch\\nn\\modules\\conv.py:443:0\n",
      "  %412 : Float(*, 64, *, *, strides=[307200, 4800, 80, 1], requires_grad=1, device=cpu) = onnx::Relu(%input.36) # C:\\Users\\Aboud\\anaconda3\\envs\\hand_gesture_based_control\\lib\\site-packages\\torch\\nn\\functional.py:1442:0\n",
      "  %input.40 : Float(*, 64, *, *, strides=[76800, 1200, 40, 1], requires_grad=1, device=cpu) = onnx::MaxPool[ceil_mode=0, kernel_shape=[2, 2], pads=[0, 0, 0, 0], strides=[2, 2]](%412) # C:\\Users\\Aboud\\anaconda3\\envs\\hand_gesture_based_control\\lib\\site-packages\\torch\\nn\\functional.py:797:0\n",
      "  %423 : Long(4, device=cpu) = onnx::ConstantOfShape[value={0}](%598) # C:\\Users\\Aboud\\anaconda3\\envs\\hand_gesture_based_control\\lib\\site-packages\\torch\\nn\\functional.py:4379:0\n",
      "  %424 : Long(8, strides=[1], device=cpu) = onnx::Concat[axis=0](%599, %423) # C:\\Users\\Aboud\\anaconda3\\envs\\hand_gesture_based_control\\lib\\site-packages\\torch\\nn\\functional.py:4379:0\n",
      "  %425 : Long(2, strides=[1], device=cpu) = onnx::Constant[value=-1  2 [ CPULongType{2} ]]() # C:\\Users\\Aboud\\anaconda3\\envs\\hand_gesture_based_control\\lib\\site-packages\\torch\\nn\\functional.py:4379:0\n",
      "  %426 : Long(4, 2, strides=[2, 1], device=cpu) = onnx::Reshape(%424, %425) # C:\\Users\\Aboud\\anaconda3\\envs\\hand_gesture_based_control\\lib\\site-packages\\torch\\nn\\functional.py:4379:0\n",
      "  %427 : Long(1, strides=[1], device=cpu) = onnx::Constant[value={0}]() # C:\\Users\\Aboud\\anaconda3\\envs\\hand_gesture_based_control\\lib\\site-packages\\torch\\nn\\functional.py:4379:0\n",
      "  %428 : Long(1, strides=[1], device=cpu) = onnx::Constant[value={-1}]() # C:\\Users\\Aboud\\anaconda3\\envs\\hand_gesture_based_control\\lib\\site-packages\\torch\\nn\\functional.py:4379:0\n",
      "  %429 : Long(1, strides=[1], device=cpu) = onnx::Constant[value={-9223372036854775807}]() # C:\\Users\\Aboud\\anaconda3\\envs\\hand_gesture_based_control\\lib\\site-packages\\torch\\nn\\functional.py:4379:0\n",
      "  %430 : Long(1, strides=[1], device=cpu) = onnx::Constant[value={-1}]() # C:\\Users\\Aboud\\anaconda3\\envs\\hand_gesture_based_control\\lib\\site-packages\\torch\\nn\\functional.py:4379:0\n",
      "  %431 : Long(4, 2, strides=[2, 1], device=cpu) = onnx::Slice(%426, %428, %429, %427, %430) # C:\\Users\\Aboud\\anaconda3\\envs\\hand_gesture_based_control\\lib\\site-packages\\torch\\nn\\functional.py:4379:0\n",
      "  %432 : Long(2, 4, strides=[4, 1], device=cpu) = onnx::Transpose[perm=[1, 0]](%431) # C:\\Users\\Aboud\\anaconda3\\envs\\hand_gesture_based_control\\lib\\site-packages\\torch\\nn\\functional.py:4379:0\n",
      "  %433 : Long(1, strides=[1], device=cpu) = onnx::Constant[value={-1}]() # C:\\Users\\Aboud\\anaconda3\\envs\\hand_gesture_based_control\\lib\\site-packages\\torch\\nn\\functional.py:4379:0\n",
      "  %434 : Long(8, strides=[1], device=cpu) = onnx::Reshape(%432, %433) # C:\\Users\\Aboud\\anaconda3\\envs\\hand_gesture_based_control\\lib\\site-packages\\torch\\nn\\functional.py:4379:0\n",
      "  %435 : Long(8, strides=[1], device=cpu) = onnx::Cast[to=7](%434) # C:\\Users\\Aboud\\anaconda3\\envs\\hand_gesture_based_control\\lib\\site-packages\\torch\\nn\\functional.py:4379:0\n",
      "  %input.44 : Float(*, *, *, *, strides=[86016, 1344, 42, 1], requires_grad=1, device=cpu) = onnx::Pad[mode=\"reflect\"](%input.40, %435) # C:\\Users\\Aboud\\anaconda3\\envs\\hand_gesture_based_control\\lib\\site-packages\\torch\\nn\\functional.py:4379:0\n",
      "  %input.52 : Float(*, 128, *, *, strides=[153600, 1200, 40, 1], requires_grad=1, device=cpu) = onnx::Conv[dilations=[1, 1], group=1, kernel_shape=[3, 3], pads=[0, 0, 0, 0], strides=[1, 1]](%input.44, %534, %535) # C:\\Users\\Aboud\\anaconda3\\envs\\hand_gesture_based_control\\lib\\site-packages\\torch\\nn\\modules\\conv.py:443:0\n",
      "  %439 : Float(*, 128, *, *, strides=[153600, 1200, 40, 1], requires_grad=1, device=cpu) = onnx::Relu(%input.52) # C:\\Users\\Aboud\\anaconda3\\envs\\hand_gesture_based_control\\lib\\site-packages\\torch\\nn\\functional.py:1442:0\n",
      "  %input.56 : Float(*, 128, *, *, strides=[38400, 300, 20, 1], requires_grad=1, device=cpu) = onnx::MaxPool[ceil_mode=0, kernel_shape=[2, 2], pads=[0, 0, 0, 0], strides=[2, 2]](%439) # C:\\Users\\Aboud\\anaconda3\\envs\\hand_gesture_based_control\\lib\\site-packages\\torch\\nn\\functional.py:797:0\n",
      "  %450 : Long(4, device=cpu) = onnx::ConstantOfShape[value={0}](%603) # C:\\Users\\Aboud\\anaconda3\\envs\\hand_gesture_based_control\\lib\\site-packages\\torch\\nn\\functional.py:4379:0\n",
      "  %451 : Long(8, strides=[1], device=cpu) = onnx::Concat[axis=0](%604, %450) # C:\\Users\\Aboud\\anaconda3\\envs\\hand_gesture_based_control\\lib\\site-packages\\torch\\nn\\functional.py:4379:0\n",
      "  %452 : Long(2, strides=[1], device=cpu) = onnx::Constant[value=-1  2 [ CPULongType{2} ]]() # C:\\Users\\Aboud\\anaconda3\\envs\\hand_gesture_based_control\\lib\\site-packages\\torch\\nn\\functional.py:4379:0\n",
      "  %453 : Long(4, 2, strides=[2, 1], device=cpu) = onnx::Reshape(%451, %452) # C:\\Users\\Aboud\\anaconda3\\envs\\hand_gesture_based_control\\lib\\site-packages\\torch\\nn\\functional.py:4379:0\n",
      "  %454 : Long(1, strides=[1], device=cpu) = onnx::Constant[value={0}]() # C:\\Users\\Aboud\\anaconda3\\envs\\hand_gesture_based_control\\lib\\site-packages\\torch\\nn\\functional.py:4379:0\n",
      "  %455 : Long(1, strides=[1], device=cpu) = onnx::Constant[value={-1}]() # C:\\Users\\Aboud\\anaconda3\\envs\\hand_gesture_based_control\\lib\\site-packages\\torch\\nn\\functional.py:4379:0\n",
      "  %456 : Long(1, strides=[1], device=cpu) = onnx::Constant[value={-9223372036854775807}]() # C:\\Users\\Aboud\\anaconda3\\envs\\hand_gesture_based_control\\lib\\site-packages\\torch\\nn\\functional.py:4379:0\n",
      "  %457 : Long(1, strides=[1], device=cpu) = onnx::Constant[value={-1}]() # C:\\Users\\Aboud\\anaconda3\\envs\\hand_gesture_based_control\\lib\\site-packages\\torch\\nn\\functional.py:4379:0\n",
      "  %458 : Long(4, 2, strides=[2, 1], device=cpu) = onnx::Slice(%453, %455, %456, %454, %457) # C:\\Users\\Aboud\\anaconda3\\envs\\hand_gesture_based_control\\lib\\site-packages\\torch\\nn\\functional.py:4379:0\n",
      "  %459 : Long(2, 4, strides=[4, 1], device=cpu) = onnx::Transpose[perm=[1, 0]](%458) # C:\\Users\\Aboud\\anaconda3\\envs\\hand_gesture_based_control\\lib\\site-packages\\torch\\nn\\functional.py:4379:0\n",
      "  %460 : Long(1, strides=[1], device=cpu) = onnx::Constant[value={-1}]() # C:\\Users\\Aboud\\anaconda3\\envs\\hand_gesture_based_control\\lib\\site-packages\\torch\\nn\\functional.py:4379:0\n",
      "  %461 : Long(8, strides=[1], device=cpu) = onnx::Reshape(%459, %460) # C:\\Users\\Aboud\\anaconda3\\envs\\hand_gesture_based_control\\lib\\site-packages\\torch\\nn\\functional.py:4379:0\n",
      "  %462 : Long(8, strides=[1], device=cpu) = onnx::Cast[to=7](%461) # C:\\Users\\Aboud\\anaconda3\\envs\\hand_gesture_based_control\\lib\\site-packages\\torch\\nn\\functional.py:4379:0\n",
      "  %input.60 : Float(*, *, *, *, strides=[47872, 374, 22, 1], requires_grad=1, device=cpu) = onnx::Pad[mode=\"reflect\"](%input.56, %462) # C:\\Users\\Aboud\\anaconda3\\envs\\hand_gesture_based_control\\lib\\site-packages\\torch\\nn\\functional.py:4379:0\n",
      "  %input.68 : Float(*, 128, *, *, strides=[38400, 300, 20, 1], requires_grad=1, device=cpu) = onnx::Conv[dilations=[1, 1], group=1, kernel_shape=[3, 3], pads=[0, 0, 0, 0], strides=[1, 1]](%input.60, %537, %538) # C:\\Users\\Aboud\\anaconda3\\envs\\hand_gesture_based_control\\lib\\site-packages\\torch\\nn\\modules\\conv.py:443:0\n",
      "  %466 : Float(*, 128, *, *, strides=[38400, 300, 20, 1], requires_grad=1, device=cpu) = onnx::Relu(%input.68) # C:\\Users\\Aboud\\anaconda3\\envs\\hand_gesture_based_control\\lib\\site-packages\\torch\\nn\\functional.py:1442:0\n",
      "  %input.72 : Float(*, 128, *, *, strides=[8960, 70, 10, 1], requires_grad=1, device=cpu) = onnx::MaxPool[ceil_mode=0, kernel_shape=[2, 2], pads=[0, 0, 0, 0], strides=[2, 2]](%466) # C:\\Users\\Aboud\\anaconda3\\envs\\hand_gesture_based_control\\lib\\site-packages\\torch\\nn\\functional.py:797:0\n",
      "  %477 : Long(4, device=cpu) = onnx::ConstantOfShape[value={0}](%608) # C:\\Users\\Aboud\\anaconda3\\envs\\hand_gesture_based_control\\lib\\site-packages\\torch\\nn\\functional.py:4379:0\n",
      "  %478 : Long(8, strides=[1], device=cpu) = onnx::Concat[axis=0](%609, %477) # C:\\Users\\Aboud\\anaconda3\\envs\\hand_gesture_based_control\\lib\\site-packages\\torch\\nn\\functional.py:4379:0\n",
      "  %479 : Long(2, strides=[1], device=cpu) = onnx::Constant[value=-1  2 [ CPULongType{2} ]]() # C:\\Users\\Aboud\\anaconda3\\envs\\hand_gesture_based_control\\lib\\site-packages\\torch\\nn\\functional.py:4379:0\n",
      "  %480 : Long(4, 2, strides=[2, 1], device=cpu) = onnx::Reshape(%478, %479) # C:\\Users\\Aboud\\anaconda3\\envs\\hand_gesture_based_control\\lib\\site-packages\\torch\\nn\\functional.py:4379:0\n",
      "  %481 : Long(1, strides=[1], device=cpu) = onnx::Constant[value={0}]() # C:\\Users\\Aboud\\anaconda3\\envs\\hand_gesture_based_control\\lib\\site-packages\\torch\\nn\\functional.py:4379:0\n",
      "  %482 : Long(1, strides=[1], device=cpu) = onnx::Constant[value={-1}]() # C:\\Users\\Aboud\\anaconda3\\envs\\hand_gesture_based_control\\lib\\site-packages\\torch\\nn\\functional.py:4379:0\n",
      "  %483 : Long(1, strides=[1], device=cpu) = onnx::Constant[value={-9223372036854775807}]() # C:\\Users\\Aboud\\anaconda3\\envs\\hand_gesture_based_control\\lib\\site-packages\\torch\\nn\\functional.py:4379:0\n",
      "  %484 : Long(1, strides=[1], device=cpu) = onnx::Constant[value={-1}]() # C:\\Users\\Aboud\\anaconda3\\envs\\hand_gesture_based_control\\lib\\site-packages\\torch\\nn\\functional.py:4379:0\n",
      "  %485 : Long(4, 2, strides=[2, 1], device=cpu) = onnx::Slice(%480, %482, %483, %481, %484) # C:\\Users\\Aboud\\anaconda3\\envs\\hand_gesture_based_control\\lib\\site-packages\\torch\\nn\\functional.py:4379:0\n",
      "  %486 : Long(2, 4, strides=[4, 1], device=cpu) = onnx::Transpose[perm=[1, 0]](%485) # C:\\Users\\Aboud\\anaconda3\\envs\\hand_gesture_based_control\\lib\\site-packages\\torch\\nn\\functional.py:4379:0\n",
      "  %487 : Long(1, strides=[1], device=cpu) = onnx::Constant[value={-1}]() # C:\\Users\\Aboud\\anaconda3\\envs\\hand_gesture_based_control\\lib\\site-packages\\torch\\nn\\functional.py:4379:0\n",
      "  %488 : Long(8, strides=[1], device=cpu) = onnx::Reshape(%486, %487) # C:\\Users\\Aboud\\anaconda3\\envs\\hand_gesture_based_control\\lib\\site-packages\\torch\\nn\\functional.py:4379:0\n",
      "  %489 : Long(8, strides=[1], device=cpu) = onnx::Cast[to=7](%488) # C:\\Users\\Aboud\\anaconda3\\envs\\hand_gesture_based_control\\lib\\site-packages\\torch\\nn\\functional.py:4379:0\n",
      "  %input.76 : Float(*, *, *, *, strides=[13824, 108, 12, 1], requires_grad=1, device=cpu) = onnx::Pad[mode=\"reflect\"](%input.72, %489) # C:\\Users\\Aboud\\anaconda3\\envs\\hand_gesture_based_control\\lib\\site-packages\\torch\\nn\\functional.py:4379:0\n",
      "  %input.84 : Float(*, 256, *, *, strides=[17920, 70, 10, 1], requires_grad=1, device=cpu) = onnx::Conv[dilations=[1, 1], group=1, kernel_shape=[3, 3], pads=[0, 0, 0, 0], strides=[1, 1]](%input.76, %540, %541) # C:\\Users\\Aboud\\anaconda3\\envs\\hand_gesture_based_control\\lib\\site-packages\\torch\\nn\\modules\\conv.py:443:0\n",
      "  %493 : Float(*, 256, *, *, strides=[17920, 70, 10, 1], requires_grad=1, device=cpu) = onnx::Relu(%input.84) # C:\\Users\\Aboud\\anaconda3\\envs\\hand_gesture_based_control\\lib\\site-packages\\torch\\nn\\functional.py:1442:0\n",
      "  %input.88 : Float(*, 256, *, *, strides=[3840, 15, 5, 1], requires_grad=1, device=cpu) = onnx::MaxPool[ceil_mode=0, kernel_shape=[2, 2], pads=[0, 0, 0, 0], strides=[2, 2]](%493) # C:\\Users\\Aboud\\anaconda3\\envs\\hand_gesture_based_control\\lib\\site-packages\\torch\\nn\\functional.py:797:0\n",
      "  %504 : Long(4, device=cpu) = onnx::ConstantOfShape[value={0}](%613) # C:\\Users\\Aboud\\anaconda3\\envs\\hand_gesture_based_control\\lib\\site-packages\\torch\\nn\\functional.py:4379:0\n",
      "  %505 : Long(8, strides=[1], device=cpu) = onnx::Concat[axis=0](%614, %504) # C:\\Users\\Aboud\\anaconda3\\envs\\hand_gesture_based_control\\lib\\site-packages\\torch\\nn\\functional.py:4379:0\n",
      "  %506 : Long(2, strides=[1], device=cpu) = onnx::Constant[value=-1  2 [ CPULongType{2} ]]() # C:\\Users\\Aboud\\anaconda3\\envs\\hand_gesture_based_control\\lib\\site-packages\\torch\\nn\\functional.py:4379:0\n",
      "  %507 : Long(4, 2, strides=[2, 1], device=cpu) = onnx::Reshape(%505, %506) # C:\\Users\\Aboud\\anaconda3\\envs\\hand_gesture_based_control\\lib\\site-packages\\torch\\nn\\functional.py:4379:0\n",
      "  %508 : Long(1, strides=[1], device=cpu) = onnx::Constant[value={0}]() # C:\\Users\\Aboud\\anaconda3\\envs\\hand_gesture_based_control\\lib\\site-packages\\torch\\nn\\functional.py:4379:0\n",
      "  %509 : Long(1, strides=[1], device=cpu) = onnx::Constant[value={-1}]() # C:\\Users\\Aboud\\anaconda3\\envs\\hand_gesture_based_control\\lib\\site-packages\\torch\\nn\\functional.py:4379:0\n",
      "  %510 : Long(1, strides=[1], device=cpu) = onnx::Constant[value={-9223372036854775807}]() # C:\\Users\\Aboud\\anaconda3\\envs\\hand_gesture_based_control\\lib\\site-packages\\torch\\nn\\functional.py:4379:0\n",
      "  %511 : Long(1, strides=[1], device=cpu) = onnx::Constant[value={-1}]() # C:\\Users\\Aboud\\anaconda3\\envs\\hand_gesture_based_control\\lib\\site-packages\\torch\\nn\\functional.py:4379:0\n",
      "  %512 : Long(4, 2, strides=[2, 1], device=cpu) = onnx::Slice(%507, %509, %510, %508, %511) # C:\\Users\\Aboud\\anaconda3\\envs\\hand_gesture_based_control\\lib\\site-packages\\torch\\nn\\functional.py:4379:0\n",
      "  %513 : Long(2, 4, strides=[4, 1], device=cpu) = onnx::Transpose[perm=[1, 0]](%512) # C:\\Users\\Aboud\\anaconda3\\envs\\hand_gesture_based_control\\lib\\site-packages\\torch\\nn\\functional.py:4379:0\n",
      "  %514 : Long(1, strides=[1], device=cpu) = onnx::Constant[value={-1}]() # C:\\Users\\Aboud\\anaconda3\\envs\\hand_gesture_based_control\\lib\\site-packages\\torch\\nn\\functional.py:4379:0\n",
      "  %515 : Long(8, strides=[1], device=cpu) = onnx::Reshape(%513, %514) # C:\\Users\\Aboud\\anaconda3\\envs\\hand_gesture_based_control\\lib\\site-packages\\torch\\nn\\functional.py:4379:0\n",
      "  %516 : Long(8, strides=[1], device=cpu) = onnx::Cast[to=7](%515) # C:\\Users\\Aboud\\anaconda3\\envs\\hand_gesture_based_control\\lib\\site-packages\\torch\\nn\\functional.py:4379:0\n",
      "  %input.92 : Float(*, *, *, *, strides=[8960, 35, 7, 1], requires_grad=1, device=cpu) = onnx::Pad[mode=\"reflect\"](%input.88, %516) # C:\\Users\\Aboud\\anaconda3\\envs\\hand_gesture_based_control\\lib\\site-packages\\torch\\nn\\functional.py:4379:0\n",
      "  %input.100 : Float(*, 512, *, *, strides=[7680, 15, 5, 1], requires_grad=1, device=cpu) = onnx::Conv[dilations=[1, 1], group=1, kernel_shape=[3, 3], pads=[0, 0, 0, 0], strides=[1, 1]](%input.92, %543, %544) # C:\\Users\\Aboud\\anaconda3\\envs\\hand_gesture_based_control\\lib\\site-packages\\torch\\nn\\modules\\conv.py:443:0\n",
      "  %input.104 : Float(*, 512, *, *, strides=[7680, 15, 5, 1], requires_grad=1, device=cpu) = onnx::Relu(%input.100) # C:\\Users\\Aboud\\anaconda3\\envs\\hand_gesture_based_control\\lib\\site-packages\\torch\\nn\\functional.py:1442:0\n",
      "  %521 : Float(*, 512, *, strides=[2560, 5, 1], requires_grad=1, device=cpu) = onnx::ReduceMax[axes=[2], keepdims=0](%input.104) # C:\\Users\\Aboud\\Projects\\hand_gesture_based_control\\models.py:446:0\n",
      "  %522 : Float(*, 512, strides=[512, 1], requires_grad=1, device=cpu) = onnx::ReduceMax[axes=[2], keepdims=0](%521) # C:\\Users\\Aboud\\Projects\\hand_gesture_based_control\\models.py:446:0\n",
      "  %output : Float(*, 8, strides=[8, 1], requires_grad=1, device=cpu) = onnx::Gemm[alpha=1., beta=1., transB=1](%522, %fc.0.weight, %fc.0.bias) # C:\\Users\\Aboud\\anaconda3\\envs\\hand_gesture_based_control\\lib\\site-packages\\torch\\nn\\modules\\linear.py:103:0\n",
      "  return (%output)\n",
      "\n"
     ]
    }
   ],
   "source": [
    "input_names = [\"actual_input\"]\n",
    "output_names = [\"output\"]\n",
    "\n",
    "\n",
    "torch.onnx.export(v4, torch.randn(1, 3, 120, 160), \"var7.onnx\", verbose=True, input_names=input_names, output_names=output_names, export_params=False, opset_version=11)"
   ],
   "metadata": {
    "collapsed": false,
    "pycharm": {
     "name": "#%%\n"
    }
   }
  },
  {
   "cell_type": "code",
   "execution_count": 4,
   "outputs": [
    {
     "data": {
      "text/plain": "Var1(\n  (layer1): Sequential(\n    (0): Conv2d(3, 32, kernel_size=(3, 3), stride=(1, 1))\n    (1): BatchNorm2d(32, eps=1e-05, momentum=0.1, affine=True, track_running_stats=True)\n    (2): ReLU()\n  )\n  (layer2): Sequential(\n    (0): Conv2d(32, 48, kernel_size=(3, 3), stride=(1, 1))\n    (1): BatchNorm2d(48, eps=1e-05, momentum=0.1, affine=True, track_running_stats=True)\n    (2): ReLU()\n    (3): MaxPool2d(kernel_size=2, stride=2, padding=0, dilation=1, ceil_mode=False)\n  )\n  (layer3): Sequential(\n    (0): Conv2d(48, 48, kernel_size=(3, 3), stride=(1, 1))\n    (1): BatchNorm2d(48, eps=1e-05, momentum=0.1, affine=True, track_running_stats=True)\n    (2): ReLU()\n  )\n  (layer4): Sequential(\n    (0): Conv2d(48, 64, kernel_size=(3, 3), stride=(1, 1))\n    (1): BatchNorm2d(64, eps=1e-05, momentum=0.1, affine=True, track_running_stats=True)\n    (2): ReLU()\n    (3): MaxPool2d(kernel_size=2, stride=2, padding=0, dilation=1, ceil_mode=False)\n  )\n  (layer5): Sequential(\n    (0): Conv2d(64, 96, kernel_size=(3, 3), stride=(1, 1))\n    (1): BatchNorm2d(96, eps=1e-05, momentum=0.1, affine=True, track_running_stats=True)\n    (2): ReLU()\n    (3): MaxPool2d(kernel_size=2, stride=2, padding=0, dilation=1, ceil_mode=False)\n  )\n  (fc): Sequential(\n    (0): Linear(in_features=19584, out_features=256, bias=True)\n    (1): ReLU()\n    (2): Linear(in_features=256, out_features=128, bias=True)\n    (3): ReLU()\n    (4): Linear(in_features=128, out_features=8, bias=True)\n  )\n)"
     },
     "execution_count": 4,
     "metadata": {},
     "output_type": "execute_result"
    }
   ],
   "source": [
    "from models import *\n",
    "Var1(8)"
   ],
   "metadata": {
    "collapsed": false,
    "pycharm": {
     "name": "#%%\n"
    }
   }
  },
  {
   "cell_type": "code",
   "execution_count": null,
   "outputs": [],
   "source": [],
   "metadata": {
    "collapsed": false,
    "pycharm": {
     "name": "#%%\n"
    }
   }
  }
 ],
 "metadata": {
  "kernelspec": {
   "display_name": "Python 3",
   "language": "python",
   "name": "python3"
  },
  "language_info": {
   "codemirror_mode": {
    "name": "ipython",
    "version": 2
   },
   "file_extension": ".py",
   "mimetype": "text/x-python",
   "name": "python",
   "nbconvert_exporter": "python",
   "pygments_lexer": "ipython2",
   "version": "2.7.6"
  }
 },
 "nbformat": 4,
 "nbformat_minor": 0
}