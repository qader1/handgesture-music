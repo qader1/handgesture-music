{
 "cells": [
  {
   "cell_type": "code",
   "execution_count": 1,
   "metadata": {
    "collapsed": true
   },
   "outputs": [],
   "source": [
    "from torchvision.transforms import functional as tf\n",
    "from PIL import Image\n",
    "import os"
   ]
  },
  {
   "cell_type": "code",
   "execution_count": 2,
   "outputs": [],
   "source": [
    "# resize images that include humans to make it equal to the rest\n",
    "data_folder = r'C:\\Users\\Aboud\\Datasets\\NUS_hand_posture_data_2\\Hand Postures'\n",
    "lst_images = os.listdir(data_folder)\n",
    "lst_images = [x for x in lst_images if '_HN' in x]\n",
    "for im in lst_images:\n",
    "    path: str = os.path.join(data_folder, im)\n",
    "    file = Image.open(path)\n",
    "    resized = tf.resize(file, size=[120, 160])\n",
    "    resized.save(path)"
   ],
   "metadata": {
    "collapsed": false,
    "pycharm": {
     "name": "#%%\n"
    }
   }
  },
  {
   "cell_type": "code",
   "execution_count": 3,
   "outputs": [
    {
     "data": {
      "text/plain": "{(160, 120)}"
     },
     "execution_count": 3,
     "metadata": {},
     "output_type": "execute_result"
    }
   ],
   "source": [
    "# check how many sizes are there. it should be one (160, 120)\n",
    "sizes = [Image.open(os.path.join(data_folder, im)).size for im in lst_images]\n",
    "set(sizes)"
   ],
   "metadata": {
    "collapsed": false,
    "pycharm": {
     "name": "#%%\n"
    }
   }
  },
  {
   "cell_type": "code",
   "execution_count": 4,
   "outputs": [],
   "source": [
    "# double the amount of images by creating a horizontal flipped copy of each (more gestures)\n",
    "for im in os.listdir(data_folder):\n",
    "    if '_hf' not in im and im.endswith('jpg'):\n",
    "        path = os.path.join(data_folder, im)\n",
    "        img = Image.open(path)\n",
    "        flip = tf.hflip(img)\n",
    "        flip.save(os.path.join(data_folder, im[:-4]+'_hf'+'.jpg'))"
   ],
   "metadata": {
    "collapsed": false,
    "pycharm": {
     "name": "#%%\n"
    }
   }
  },
  {
   "cell_type": "markdown",
   "source": [
    "## gestures\n",
    "* a and a hf to start and pause\n",
    "* b and b hf for next and previous\n",
    "* c and c hf to jump forward and backward\n",
    "* d delete (unneeded)\n",
    "* e delete (wrong side)\n",
    "* f delete (wrong side)\n",
    "* g delete (unneeded)\n",
    "* h and h hf to raise and lower volume\n",
    "* i delete (wrong side)\n",
    "* j delete (wrong side)\n",
    "\n",
    "8 gestures a\\*2 + b\\*2 + c\\*2 + h\\*2 = 8\n"
   ],
   "metadata": {
    "collapsed": false,
    "pycharm": {
     "name": "#%% md\n"
    }
   }
  },
  {
   "cell_type": "code",
   "execution_count": 5,
   "outputs": [],
   "source": [
    "# remove unneeded or inviable gestures\n",
    "for im in os.listdir(data_folder):\n",
    "    sw = im.startswith\n",
    "    if sw('d') or sw('e') or sw('f') or sw('g') or sw('i') or sw('j'):\n",
    "        os.remove(os.path.join(data_folder, im))"
   ],
   "metadata": {
    "collapsed": false,
    "pycharm": {
     "name": "#%%\n"
    }
   }
  },
  {
   "cell_type": "code",
   "execution_count": null,
   "outputs": [],
   "source": [
    "# to rename the data, copy it to a new folder and rename. hard to rename in the same folder as the desired names already exist.\n",
    "from shutil import copyfile\n",
    "new = r'C:\\Users\\Aboud\\Datasets\\NUS_hand_posture_data_2\\Data'\n",
    "os.mkdir(new)\n",
    "for im in os.listdir(data_folder)[1:]:\n",
    "    src = os.path.join(data_folder, im)\n",
    "    if '_hf' not in im:\n",
    "        suffix = im[1:]\n",
    "        for i, j in zip('abch', 'ACEG'):\n",
    "            if i in im:\n",
    "                copyfile(src, os.path.join(new, j + suffix))\n",
    "                break\n",
    "    else:\n",
    "        suffix = im[1:-7] + '.jpg'\n",
    "        for i, j in zip('abch', 'BDFH'):\n",
    "            if i in im:\n",
    "                copyfile(src, os.path.join(new, j + suffix))\n",
    "                break"
   ],
   "metadata": {
    "collapsed": false,
    "pycharm": {
     "name": "#%%\n",
     "is_executing": true
    }
   }
  },
  {
   "cell_type": "code",
   "execution_count": null,
   "outputs": [],
   "source": [],
   "metadata": {
    "collapsed": false,
    "pycharm": {
     "name": "#%%\n"
    }
   }
  }
 ],
 "metadata": {
  "kernelspec": {
   "display_name": "Python 3",
   "language": "python",
   "name": "python3"
  },
  "language_info": {
   "codemirror_mode": {
    "name": "ipython",
    "version": 2
   },
   "file_extension": ".py",
   "mimetype": "text/x-python",
   "name": "python",
   "nbconvert_exporter": "python",
   "pygments_lexer": "ipython2",
   "version": "2.7.6"
  }
 },
 "nbformat": 4,
 "nbformat_minor": 0
}